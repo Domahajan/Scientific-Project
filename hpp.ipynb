{
 "cells": [
  {
   "cell_type": "code",
   "id": "97d12203-63cc-4e84-881c-12a3de72d5a3",
   "metadata": {
    "ExecuteTime": {
     "end_time": "2025-02-16T10:15:51.514658Z",
     "start_time": "2025-02-16T10:15:51.484663Z"
    }
   },
   "source": [
    "# Import necessary libraries\n",
    "import pandas as pd  \n",
    "import numpy as np  \n",
    "import matplotlib.pyplot as plt \n",
    "import seaborn as sns  \n",
    "\n",
    "# Configure Matplotlib settings\n",
    "from matplotlib import rcParams\n",
    "rcParams[\"figure.figsize\"] = (10, 6) "
   ],
   "outputs": [],
   "execution_count": 1
  },
  {
   "cell_type": "code",
   "id": "ffc6856b-0b59-466a-8d15-7236f31aab93",
   "metadata": {
    "ExecuteTime": {
     "end_time": "2025-02-16T10:15:51.625231Z",
     "start_time": "2025-02-16T10:15:51.514658Z"
    }
   },
   "source": [
    "# Load the dataset\n",
    "file_path = \"D:/Pune_House_Data.csv\"  \n",
    "house_data = pd.read_csv(file_path)\n",
    "print(\"Dataset loaded successfully!\")\n",
    "\n",
    "# Display the first few rows\n",
    "display(house_data.head()) "
   ],
   "outputs": [
    {
     "name": "stdout",
     "output_type": "stream",
     "text": [
      "Dataset loaded successfully!\n"
     ]
    },
    {
     "data": {
      "text/plain": [
       "              area_type   availability       size  society total_sqft  bath  \\\n",
       "0  Super built-up  Area         19-Dec      2 BHK  Coomee        1056   2.0   \n",
       "1            Plot  Area  Ready To Move  4 Bedroom  Theanmp       2600   5.0   \n",
       "2        Built-up  Area  Ready To Move      3 BHK      NaN       1440   2.0   \n",
       "3  Super built-up  Area  Ready To Move      3 BHK  Soiewre       1521   3.0   \n",
       "4  Super built-up  Area  Ready To Move      2 BHK      NaN       1200   2.0   \n",
       "\n",
       "   balcony   price    site_location  \n",
       "0      1.0   39.07      Alandi Road  \n",
       "1      3.0  120.00  Ambegaon Budruk  \n",
       "2      3.0   62.00       Anandnagar  \n",
       "3      1.0   95.00            Aundh  \n",
       "4      1.0   51.00       Aundh Road  "
      ],
      "text/html": [
       "<div>\n",
       "<style scoped>\n",
       "    .dataframe tbody tr th:only-of-type {\n",
       "        vertical-align: middle;\n",
       "    }\n",
       "\n",
       "    .dataframe tbody tr th {\n",
       "        vertical-align: top;\n",
       "    }\n",
       "\n",
       "    .dataframe thead th {\n",
       "        text-align: right;\n",
       "    }\n",
       "</style>\n",
       "<table border=\"1\" class=\"dataframe\">\n",
       "  <thead>\n",
       "    <tr style=\"text-align: right;\">\n",
       "      <th></th>\n",
       "      <th>area_type</th>\n",
       "      <th>availability</th>\n",
       "      <th>size</th>\n",
       "      <th>society</th>\n",
       "      <th>total_sqft</th>\n",
       "      <th>bath</th>\n",
       "      <th>balcony</th>\n",
       "      <th>price</th>\n",
       "      <th>site_location</th>\n",
       "    </tr>\n",
       "  </thead>\n",
       "  <tbody>\n",
       "    <tr>\n",
       "      <th>0</th>\n",
       "      <td>Super built-up  Area</td>\n",
       "      <td>19-Dec</td>\n",
       "      <td>2 BHK</td>\n",
       "      <td>Coomee</td>\n",
       "      <td>1056</td>\n",
       "      <td>2.0</td>\n",
       "      <td>1.0</td>\n",
       "      <td>39.07</td>\n",
       "      <td>Alandi Road</td>\n",
       "    </tr>\n",
       "    <tr>\n",
       "      <th>1</th>\n",
       "      <td>Plot  Area</td>\n",
       "      <td>Ready To Move</td>\n",
       "      <td>4 Bedroom</td>\n",
       "      <td>Theanmp</td>\n",
       "      <td>2600</td>\n",
       "      <td>5.0</td>\n",
       "      <td>3.0</td>\n",
       "      <td>120.00</td>\n",
       "      <td>Ambegaon Budruk</td>\n",
       "    </tr>\n",
       "    <tr>\n",
       "      <th>2</th>\n",
       "      <td>Built-up  Area</td>\n",
       "      <td>Ready To Move</td>\n",
       "      <td>3 BHK</td>\n",
       "      <td>NaN</td>\n",
       "      <td>1440</td>\n",
       "      <td>2.0</td>\n",
       "      <td>3.0</td>\n",
       "      <td>62.00</td>\n",
       "      <td>Anandnagar</td>\n",
       "    </tr>\n",
       "    <tr>\n",
       "      <th>3</th>\n",
       "      <td>Super built-up  Area</td>\n",
       "      <td>Ready To Move</td>\n",
       "      <td>3 BHK</td>\n",
       "      <td>Soiewre</td>\n",
       "      <td>1521</td>\n",
       "      <td>3.0</td>\n",
       "      <td>1.0</td>\n",
       "      <td>95.00</td>\n",
       "      <td>Aundh</td>\n",
       "    </tr>\n",
       "    <tr>\n",
       "      <th>4</th>\n",
       "      <td>Super built-up  Area</td>\n",
       "      <td>Ready To Move</td>\n",
       "      <td>2 BHK</td>\n",
       "      <td>NaN</td>\n",
       "      <td>1200</td>\n",
       "      <td>2.0</td>\n",
       "      <td>1.0</td>\n",
       "      <td>51.00</td>\n",
       "      <td>Aundh Road</td>\n",
       "    </tr>\n",
       "  </tbody>\n",
       "</table>\n",
       "</div>"
      ]
     },
     "metadata": {},
     "output_type": "display_data"
    }
   ],
   "execution_count": 2
  },
  {
   "cell_type": "code",
   "id": "b9a4c060-bfe9-4729-b77a-dadf7a260c4c",
   "metadata": {
    "ExecuteTime": {
     "end_time": "2025-02-16T10:15:51.632673Z",
     "start_time": "2025-02-16T10:15:51.625231Z"
    }
   },
   "source": [
    "# Get the number of rows and columns\n",
    "rows, cols = house_data.shape\n",
    "print(f\"Dataset contains {rows} rows and {cols} columns.\")"
   ],
   "outputs": [
    {
     "name": "stdout",
     "output_type": "stream",
     "text": [
      "Dataset contains 13320 rows and 9 columns.\n"
     ]
    }
   ],
   "execution_count": 3
  },
  {
   "cell_type": "code",
   "id": "5f797353-01ae-4755-bb3c-cece3244e14a",
   "metadata": {
    "ExecuteTime": {
     "end_time": "2025-02-16T10:15:51.651498Z",
     "start_time": "2025-02-16T10:15:51.632673Z"
    }
   },
   "source": [
    "# Display dataset summary\n",
    "house_data.info()"
   ],
   "outputs": [
    {
     "name": "stdout",
     "output_type": "stream",
     "text": [
      "<class 'pandas.core.frame.DataFrame'>\n",
      "RangeIndex: 13320 entries, 0 to 13319\n",
      "Data columns (total 9 columns):\n",
      " #   Column         Non-Null Count  Dtype  \n",
      "---  ------         --------------  -----  \n",
      " 0   area_type      13320 non-null  object \n",
      " 1   availability   13320 non-null  object \n",
      " 2   size           13304 non-null  object \n",
      " 3   society        7818 non-null   object \n",
      " 4   total_sqft     13320 non-null  object \n",
      " 5   bath           13247 non-null  float64\n",
      " 6   balcony        12711 non-null  float64\n",
      " 7   price          13320 non-null  float64\n",
      " 8   site_location  13319 non-null  object \n",
      "dtypes: float64(3), object(6)\n",
      "memory usage: 936.7+ KB\n"
     ]
    }
   ],
   "execution_count": 4
  },
  {
   "cell_type": "code",
   "id": "0b972208-2355-4e06-823b-ee46da45c7e4",
   "metadata": {
    "ExecuteTime": {
     "end_time": "2025-02-16T10:15:51.974454Z",
     "start_time": "2025-02-16T10:15:51.652513Z"
    }
   },
   "source": [
    "# Compute value counts for 'area_type'\n",
    "area_counts = house_data['area_type'].value_counts()\n",
    "print(area_counts)\n",
    "\n",
    "# Create a bar plot\n",
    "plt.figure(figsize=(10, 6))\n",
    "sns.barplot(x=area_counts.values, y=area_counts.index, palette=\"viridis\")\n",
    "plt.xlabel(\"Count\", fontsize=12)\n",
    "plt.ylabel(\"Area Type\", fontsize=12)\n",
    "plt.title(\"Distribution of Area Types in Dataset\", fontsize=14)\n",
    "plt.grid(axis='x', linestyle='--', alpha=0.7)  # Add grid for better readability\n",
    "plt.show()\n"
   ],
   "outputs": [
    {
     "name": "stdout",
     "output_type": "stream",
     "text": [
      "area_type\n",
      "Super built-up  Area    8790\n",
      "Built-up  Area          2418\n",
      "Plot  Area              2025\n",
      "Carpet  Area              87\n",
      "Name: count, dtype: int64\n"
     ]
    },
    {
     "name": "stderr",
     "output_type": "stream",
     "text": [
      "C:\\Users\\Lenovo\\AppData\\Local\\Temp\\ipykernel_4076\\3854439082.py:7: FutureWarning: \n",
      "\n",
      "Passing `palette` without assigning `hue` is deprecated and will be removed in v0.14.0. Assign the `y` variable to `hue` and set `legend=False` for the same effect.\n",
      "\n",
      "  sns.barplot(x=area_counts.values, y=area_counts.index, palette=\"viridis\")\n"
     ]
    },
    {
     "data": {
      "text/plain": [
       "<Figure size 1000x600 with 1 Axes>"
      ],
      "image/png": "[encoded data removed]"
     },
     "metadata": {},
     "output_type": "display_data"
    }
   ],
   "execution_count": 5
  },
  {
   "cell_type": "code",
   "id": "bc8a8229-747a-402a-ae2c-644789b69981",
   "metadata": {
    "ExecuteTime": {
     "end_time": "2025-02-16T10:15:51.986224Z",
     "start_time": "2025-02-16T10:15:51.974454Z"
    }
   },
   "source": [
    "# Compute value counts for 'availability' column\n",
    "availability_counts = house_data['availability'].value_counts()\n",
    "display(availability_counts)"
   ],
   "outputs": [
    {
     "data": {
      "text/plain": [
       "availability\n",
       "Ready To Move    10581\n",
       "18-Dec             307\n",
       "18-May             295\n",
       "18-Apr             271\n",
       "18-Aug             200\n",
       "                 ...  \n",
       "15-Aug               1\n",
       "17-Jan               1\n",
       "16-Nov               1\n",
       "16-Jan               1\n",
       "14-Jul               1\n",
       "Name: count, Length: 81, dtype: int64"
      ]
     },
     "metadata": {},
     "output_type": "display_data"
    }
   ],
   "execution_count": 6
  },
  {
   "cell_type": "code",
   "id": "f53f9e75-1bb7-45f7-a35b-fa7c0e50c925",
   "metadata": {
    "ExecuteTime": {
     "end_time": "2025-02-16T10:15:52.000762Z",
     "start_time": "2025-02-16T10:15:51.986224Z"
    }
   },
   "source": [
    "# Count occurrences of each unique site location\n",
    "site_location_counts = house_data[\"site_location\"].value_counts()\n",
    "display(site_location_counts)"
   ],
   "outputs": [
    {
     "data": {
      "text/plain": [
       "site_location\n",
       "Alandi Road            139\n",
       "Kalyani Nagar          139\n",
       "Mahatma Gandhi Road    139\n",
       "Lulla Nagar            139\n",
       "Laxmi Road             139\n",
       "                      ... \n",
       "Sadashiv Peth          138\n",
       "Raviwar Peth           138\n",
       "Rasta Peth             138\n",
       "Ghorpadi               138\n",
       "other                    1\n",
       "Name: count, Length: 97, dtype: int64"
      ]
     },
     "metadata": {},
     "output_type": "display_data"
    }
   ],
   "execution_count": 7
  },
  {
   "cell_type": "code",
   "id": "09a5c4db-2639-440b-ae58-0a841525e3df",
   "metadata": {
    "ExecuteTime": {
     "end_time": "2025-02-16T10:15:52.012299Z",
     "start_time": "2025-02-16T10:15:52.000762Z"
    }
   },
   "source": [
    "# Count occurrences of each unique size\n",
    "size_counts = house_data[\"size\"].value_counts()\n",
    "display(size_counts)"
   ],
   "outputs": [
    {
     "data": {
      "text/plain": [
       "size\n",
       "2 BHK         5199\n",
       "3 BHK         4310\n",
       "4 Bedroom      826\n",
       "4 BHK          591\n",
       "3 Bedroom      547\n",
       "1 BHK          538\n",
       "2 Bedroom      329\n",
       "5 Bedroom      297\n",
       "6 Bedroom      191\n",
       "1 Bedroom      105\n",
       "8 Bedroom       84\n",
       "7 Bedroom       83\n",
       "5 BHK           59\n",
       "9 Bedroom       46\n",
       "6 BHK           30\n",
       "7 BHK           17\n",
       "1 RK            13\n",
       "10 Bedroom      12\n",
       "9 BHK            8\n",
       "8 BHK            5\n",
       "11 BHK           2\n",
       "11 Bedroom       2\n",
       "10 BHK           2\n",
       "14 BHK           1\n",
       "13 BHK           1\n",
       "12 Bedroom       1\n",
       "27 BHK           1\n",
       "43 Bedroom       1\n",
       "16 BHK           1\n",
       "19 BHK           1\n",
       "18 Bedroom       1\n",
       "Name: count, dtype: int64"
      ]
     },
     "metadata": {},
     "output_type": "display_data"
    }
   ],
   "execution_count": 8
  },
  {
   "cell_type": "code",
   "id": "fbfd6ff9-a983-470a-9e72-847f5895d11f",
   "metadata": {
    "ExecuteTime": {
     "end_time": "2025-02-16T10:15:52.026515Z",
     "start_time": "2025-02-16T10:15:52.014813Z"
    }
   },
   "source": [
    "# Count occurrences of each unique society\n",
    "society_counts = house_data[\"society\"].value_counts()\n",
    "display(society_counts)"
   ],
   "outputs": [
    {
     "data": {
      "text/plain": [
       "society\n",
       "GrrvaGr    80\n",
       "PrarePa    76\n",
       "Sryalan    59\n",
       "Prtates    59\n",
       "GMown E    56\n",
       "           ..\n",
       "Amionce     1\n",
       "JaghtDe     1\n",
       "Jauraht     1\n",
       "Brity U     1\n",
       "RSntsAp     1\n",
       "Name: count, Length: 2688, dtype: int64"
      ]
     },
     "metadata": {},
     "output_type": "display_data"
    }
   ],
   "execution_count": 9
  },
  {
   "cell_type": "code",
   "id": "1c25cff4-3a04-447c-b837-28d1a77a9cc9",
   "metadata": {
    "ExecuteTime": {
     "end_time": "2025-02-16T10:15:52.040206Z",
     "start_time": "2025-02-16T10:15:52.026515Z"
    }
   },
   "source": [
    "# Count occurrences of each unique square feet\n",
    "sqft_counts = house_data[\"total_sqft\"].value_counts()\n",
    "display(sqft_counts)"
   ],
   "outputs": [
    {
     "data": {
      "text/plain": [
       "total_sqft\n",
       "1200    843\n",
       "1100    221\n",
       "1500    205\n",
       "2400    196\n",
       "600     180\n",
       "       ... \n",
       "3580      1\n",
       "2461      1\n",
       "1437      1\n",
       "2155      1\n",
       "4689      1\n",
       "Name: count, Length: 2117, dtype: int64"
      ]
     },
     "metadata": {},
     "output_type": "display_data"
    }
   ],
   "execution_count": 10
  },
  {
   "cell_type": "code",
   "id": "c69e8a7d-58dc-4cf2-8070-d4e5bad90175",
   "metadata": {
    "ExecuteTime": {
     "end_time": "2025-02-16T10:15:54.674283Z",
     "start_time": "2025-02-16T10:15:52.040206Z"
    }
   },
   "source": [
    "# Select relevant columns and drop missing values\n",
    "numeric_cols = ['price', 'balcony', 'bath']\n",
    "filtered_data = house_data[numeric_cols].dropna()\n",
    "\n",
    "# Create the pairplot with KDE diagonal\n",
    "sns.pairplot(\n",
    "    filtered_data, \n",
    "    diag_kind='kde', \n",
    "    diag_kws={'fill': True, 'bw_adjust': 0.5}, \n",
    "    plot_kws={'alpha': 0.7, 's': 20}  \n",
    ")\n",
    "plt.show()"
   ],
   "outputs": [
    {
     "data": {
      "text/plain": [
       "<Figure size 750x750 with 12 Axes>"
      ],
      "image/png": "[encoded data removed]"
     },
     "metadata": {},
     "output_type": "display_data"
    }
   ],
   "execution_count": 11
  },
  {
   "cell_type": "code",
   "id": "f164f81a-752d-476e-82da-395ccdf7bced",
   "metadata": {
    "ExecuteTime": {
     "end_time": "2025-02-16T10:15:55.017597Z",
     "start_time": "2025-02-16T10:15:54.674283Z"
    }
   },
   "source": [
    "# Compute correlation matrix\n",
    "numeric_cols = ['price', 'balcony', 'bath']\n",
    "filtered_data = house_data[numeric_cols].dropna()\n",
    "correlation_matrix = filtered_data.corr().round(2)  \n",
    "print(\"\\nCorrelation Matrix:\")\n",
    "print(correlation_matrix)\n",
    "\n",
    "# Plot correlation heatmap\n",
    "plt.figure(figsize=(6, 4))\n",
    "sns.heatmap(correlation_matrix, annot=True, cmap=\"coolwarm\", linewidths=0.5, fmt=\".2f\")\n",
    "plt.title(\"Correlation Heatmap\", fontsize=14)\n",
    "plt.show()"
   ],
   "outputs": [
    {
     "name": "stdout",
     "output_type": "stream",
     "text": [
      "\n",
      "Correlation Matrix:\n",
      "         price  balcony  bath\n",
      "price     1.00     0.12  0.46\n",
      "balcony   0.12     1.00  0.20\n",
      "bath      0.46     0.20  1.00\n"
     ]
    },
    {
     "data": {
      "text/plain": [
       "<Figure size 600x400 with 2 Axes>"
      ],
      "image/png": "[encoded data removed]"
     },
     "metadata": {},
     "output_type": "display_data"
    }
   ],
   "execution_count": 12
  },
  {
   "cell_type": "code",
   "id": "61fa7db3-8d22-4ecb-b352-7bc38dc46daa",
   "metadata": {
    "ExecuteTime": {
     "end_time": "2025-02-16T10:15:55.024076Z",
     "start_time": "2025-02-16T10:15:55.017597Z"
    }
   },
   "source": [
    "# Create a copy of the dataset\n",
    "data_clean = house_data.copy()"
   ],
   "outputs": [],
   "execution_count": 13
  },
  {
   "cell_type": "code",
   "id": "450997da-07e6-4ea7-b83e-44029eea2f7c",
   "metadata": {
    "ExecuteTime": {
     "end_time": "2025-02-16T10:15:55.039044Z",
     "start_time": "2025-02-16T10:15:55.024076Z"
    }
   },
   "source": [
    "# Compute missing value counts and percentages\n",
    "missing_values = data_clean.isnull().sum()\n",
    "missing_percentage = (missing_values / len(data_clean)) * 100\n",
    "missing_df = pd.DataFrame({\n",
    "    'Missing Count': missing_values,\n",
    "    'Missing Percentage': missing_percentage\n",
    "})\n",
    "print(\"\\nMissing Values Summary:\\n\")\n",
    "print(missing_df)"
   ],
   "outputs": [
    {
     "name": "stdout",
     "output_type": "stream",
     "text": [
      "\n",
      "Missing Values Summary:\n",
      "\n",
      "               Missing Count  Missing Percentage\n",
      "area_type                  0            0.000000\n",
      "availability               0            0.000000\n",
      "size                      16            0.120120\n",
      "society                 5502           41.306306\n",
      "total_sqft                 0            0.000000\n",
      "bath                      73            0.548048\n",
      "balcony                  609            4.572072\n",
      "price                      0            0.000000\n",
      "site_location              1            0.007508\n"
     ]
    }
   ],
   "execution_count": 14
  },
  {
   "cell_type": "code",
   "id": "3664e362-5adb-4271-b612-2c183348d957",
   "metadata": {
    "ExecuteTime": {
     "end_time": "2025-02-16T10:15:55.301379Z",
     "start_time": "2025-02-16T10:15:55.043087Z"
    }
   },
   "source": [
    "# Plot missing values heatmap \n",
    "plt.figure(figsize=(10, 5))\n",
    "sns.heatmap(data_clean.isnull(), cmap=\"viridis\", cbar=False, yticklabels=False)\n",
    "plt.title(\"Missing Values Heatmap\", fontsize=14)\n",
    "plt.show()"
   ],
   "outputs": [
    {
     "data": {
      "text/plain": [
       "<Figure size 1000x500 with 1 Axes>"
      ],
      "image/png": "[encoded data removed]"
     },
     "metadata": {},
     "output_type": "display_data"
    }
   ],
   "execution_count": 15
  },
  {
   "cell_type": "code",
   "id": "fd162889-4634-47f1-87a7-53c249deb9f5",
   "metadata": {
    "ExecuteTime": {
     "end_time": "2025-02-16T10:15:55.325555Z",
     "start_time": "2025-02-16T10:15:55.301379Z"
    }
   },
   "source": [
    "# Filter rows where 'size' column has missing values\n",
    "print(\"\\nRows with Missing 'size' Values:\\n\")\n",
    "data_clean[pd.isnull(data_clean[\"size\"])]"
   ],
   "outputs": [
    {
     "name": "stdout",
     "output_type": "stream",
     "text": [
      "\n",
      "Rows with Missing 'size' Values:\n",
      "\n"
     ]
    },
    {
     "data": {
      "text/plain": [
       "        area_type          availability size  society   total_sqft  bath  \\\n",
       "579    Plot  Area  Immediate Possession  NaN  Asiss B  1200 - 2400   NaN   \n",
       "1775   Plot  Area  Immediate Possession  NaN  Orana N  2000 - 5634   NaN   \n",
       "2264   Plot  Area  Immediate Possession  NaN      NaN         2400   NaN   \n",
       "2809   Plot  Area  Immediate Possession  NaN  AsdiaAr  1200 - 2400   NaN   \n",
       "2862   Plot  Area  Immediate Possession  NaN  Ajleyor  1500 - 2400   NaN   \n",
       "5333   Plot  Area  Immediate Possession  NaN  Emngs S  2100 - 5405   NaN   \n",
       "6423   Plot  Area  Immediate Possession  NaN  SRniaGa         2324   NaN   \n",
       "6636   Plot  Area  Immediate Possession  NaN  S2enste         1500   NaN   \n",
       "6719   Plot  Area  Immediate Possession  NaN  SJowsn    800 - 2660   NaN   \n",
       "7680   Plot  Area  Immediate Possession  NaN      NaN         5000   NaN   \n",
       "8306   Plot  Area  Immediate Possession  NaN  Vaensnd         1453   NaN   \n",
       "8565   Plot  Area  Immediate Possession  NaN  Ocezes          2000   NaN   \n",
       "8703   Plot  Area  Immediate Possession  NaN  Naoden   1200 - 2400   NaN   \n",
       "10634  Plot  Area  Immediate Possession  NaN      NaN         1575   NaN   \n",
       "11019  Plot  Area  Immediate Possession  NaN  Saaveha  1200 - 1800   NaN   \n",
       "11569  Plot  Area  Immediate Possession  NaN  AVeldun         1350   NaN   \n",
       "\n",
       "       balcony    price           site_location  \n",
       "579        NaN   34.185                   Aundh  \n",
       "1775       NaN  124.000           Kondhwa Khurd  \n",
       "2264       NaN  460.000             Market yard  \n",
       "2809       NaN   28.785  Fergusson College Road  \n",
       "2862       NaN   46.800             Satara Road  \n",
       "5333       NaN  177.115     Mahatma Gandhi Road  \n",
       "6423       NaN   26.730           Uruli Devachi  \n",
       "6636       NaN   25.490                  Bopodi  \n",
       "6719       NaN   28.545                   Warje  \n",
       "7680       NaN  400.000                Yerawada  \n",
       "8306       NaN   16.500        Law College Road  \n",
       "8565       NaN  120.000           Dhayari Phata  \n",
       "8703       NaN   42.300             Narayangaon  \n",
       "10634      NaN   31.110           Sadashiv Peth  \n",
       "11019      NaN   12.750           Sahakar Nagar  \n",
       "11569      NaN    8.440                 Kothrud  "
      ],
      "text/html": [
       "<div>\n",
       "<style scoped>\n",
       "    .dataframe tbody tr th:only-of-type {\n",
       "        vertical-align: middle;\n",
       "    }\n",
       "\n",
       "    .dataframe tbody tr th {\n",
       "        vertical-align: top;\n",
       "    }\n",
       "\n",
       "    .dataframe thead th {\n",
       "        text-align: right;\n",
       "    }\n",
       "</style>\n",
       "<table border=\"1\" class=\"dataframe\">\n",
       "  <thead>\n",
       "    <tr style=\"text-align: right;\">\n",
       "      <th></th>\n",
       "      <th>area_type</th>\n",
       "      <th>availability</th>\n",
       "      <th>size</th>\n",
       "      <th>society</th>\n",
       "      <th>total_sqft</th>\n",
       "      <th>bath</th>\n",
       "      <th>balcony</th>\n",
       "      <th>price</th>\n",
       "      <th>site_location</th>\n",
       "    </tr>\n",
       "  </thead>\n",
       "  <tbody>\n",
       "    <tr>\n",
       "      <th>579</th>\n",
       "      <td>Plot  Area</td>\n",
       "      <td>Immediate Possession</td>\n",
       "      <td>NaN</td>\n",
       "      <td>Asiss B</td>\n",
       "      <td>1200 - 2400</td>\n",
       "      <td>NaN</td>\n",
       "      <td>NaN</td>\n",
       "      <td>34.185</td>\n",
       "      <td>Aundh</td>\n",
       "    </tr>\n",
       "    <tr>\n",
       "      <th>1775</th>\n",
       "      <td>Plot  Area</td>\n",
       "      <td>Immediate Possession</td>\n",
       "      <td>NaN</td>\n",
       "      <td>Orana N</td>\n",
       "      <td>2000 - 5634</td>\n",
       "      <td>NaN</td>\n",
       "      <td>NaN</td>\n",
       "      <td>124.000</td>\n",
       "      <td>Kondhwa Khurd</td>\n",
       "    </tr>\n",
       "    <tr>\n",
       "      <th>2264</th>\n",
       "      <td>Plot  Area</td>\n",
       "      <td>Immediate Possession</td>\n",
       "      <td>NaN</td>\n",
       "      <td>NaN</td>\n",
       "      <td>2400</td>\n",
       "      <td>NaN</td>\n",
       "      <td>NaN</td>\n",
       "      <td>460.000</td>\n",
       "      <td>Market yard</td>\n",
       "    </tr>\n",
       "    <tr>\n",
       "      <th>2809</th>\n",
       "      <td>Plot  Area</td>\n",
       "      <td>Immediate Possession</td>\n",
       "      <td>NaN</td>\n",
       "      <td>AsdiaAr</td>\n",
       "      <td>1200 - 2400</td>\n",
       "      <td>NaN</td>\n",
       "      <td>NaN</td>\n",
       "      <td>28.785</td>\n",
       "      <td>Fergusson College Road</td>\n",
       "    </tr>\n",
       "    <tr>\n",
       "      <th>2862</th>\n",
       "      <td>Plot  Area</td>\n",
       "      <td>Immediate Possession</td>\n",
       "      <td>NaN</td>\n",
       "      <td>Ajleyor</td>\n",
       "      <td>1500 - 2400</td>\n",
       "      <td>NaN</td>\n",
       "      <td>NaN</td>\n",
       "      <td>46.800</td>\n",
       "      <td>Satara Road</td>\n",
       "    </tr>\n",
       "    <tr>\n",
       "      <th>5333</th>\n",
       "      <td>Plot  Area</td>\n",
       "      <td>Immediate Possession</td>\n",
       "      <td>NaN</td>\n",
       "      <td>Emngs S</td>\n",
       "      <td>2100 - 5405</td>\n",
       "      <td>NaN</td>\n",
       "      <td>NaN</td>\n",
       "      <td>177.115</td>\n",
       "      <td>Mahatma Gandhi Road</td>\n",
       "    </tr>\n",
       "    <tr>\n",
       "      <th>6423</th>\n",
       "      <td>Plot  Area</td>\n",
       "      <td>Immediate Possession</td>\n",
       "      <td>NaN</td>\n",
       "      <td>SRniaGa</td>\n",
       "      <td>2324</td>\n",
       "      <td>NaN</td>\n",
       "      <td>NaN</td>\n",
       "      <td>26.730</td>\n",
       "      <td>Uruli Devachi</td>\n",
       "    </tr>\n",
       "    <tr>\n",
       "      <th>6636</th>\n",
       "      <td>Plot  Area</td>\n",
       "      <td>Immediate Possession</td>\n",
       "      <td>NaN</td>\n",
       "      <td>S2enste</td>\n",
       "      <td>1500</td>\n",
       "      <td>NaN</td>\n",
       "      <td>NaN</td>\n",
       "      <td>25.490</td>\n",
       "      <td>Bopodi</td>\n",
       "    </tr>\n",
       "    <tr>\n",
       "      <th>6719</th>\n",
       "      <td>Plot  Area</td>\n",
       "      <td>Immediate Possession</td>\n",
       "      <td>NaN</td>\n",
       "      <td>SJowsn</td>\n",
       "      <td>800 - 2660</td>\n",
       "      <td>NaN</td>\n",
       "      <td>NaN</td>\n",
       "      <td>28.545</td>\n",
       "      <td>Warje</td>\n",
       "    </tr>\n",
       "    <tr>\n",
       "      <th>7680</th>\n",
       "      <td>Plot  Area</td>\n",
       "      <td>Immediate Possession</td>\n",
       "      <td>NaN</td>\n",
       "      <td>NaN</td>\n",
       "      <td>5000</td>\n",
       "      <td>NaN</td>\n",
       "      <td>NaN</td>\n",
       "      <td>400.000</td>\n",
       "      <td>Yerawada</td>\n",
       "    </tr>\n",
       "    <tr>\n",
       "      <th>8306</th>\n",
       "      <td>Plot  Area</td>\n",
       "      <td>Immediate Possession</td>\n",
       "      <td>NaN</td>\n",
       "      <td>Vaensnd</td>\n",
       "      <td>1453</td>\n",
       "      <td>NaN</td>\n",
       "      <td>NaN</td>\n",
       "      <td>16.500</td>\n",
       "      <td>Law College Road</td>\n",
       "    </tr>\n",
       "    <tr>\n",
       "      <th>8565</th>\n",
       "      <td>Plot  Area</td>\n",
       "      <td>Immediate Possession</td>\n",
       "      <td>NaN</td>\n",
       "      <td>Ocezes</td>\n",
       "      <td>2000</td>\n",
       "      <td>NaN</td>\n",
       "      <td>NaN</td>\n",
       "      <td>120.000</td>\n",
       "      <td>Dhayari Phata</td>\n",
       "    </tr>\n",
       "    <tr>\n",
       "      <th>8703</th>\n",
       "      <td>Plot  Area</td>\n",
       "      <td>Immediate Possession</td>\n",
       "      <td>NaN</td>\n",
       "      <td>Naoden</td>\n",
       "      <td>1200 - 2400</td>\n",
       "      <td>NaN</td>\n",
       "      <td>NaN</td>\n",
       "      <td>42.300</td>\n",
       "      <td>Narayangaon</td>\n",
       "    </tr>\n",
       "    <tr>\n",
       "      <th>10634</th>\n",
       "      <td>Plot  Area</td>\n",
       "      <td>Immediate Possession</td>\n",
       "      <td>NaN</td>\n",
       "      <td>NaN</td>\n",
       "      <td>1575</td>\n",
       "      <td>NaN</td>\n",
       "      <td>NaN</td>\n",
       "      <td>31.110</td>\n",
       "      <td>Sadashiv Peth</td>\n",
       "    </tr>\n",
       "    <tr>\n",
       "      <th>11019</th>\n",
       "      <td>Plot  Area</td>\n",
       "      <td>Immediate Possession</td>\n",
       "      <td>NaN</td>\n",
       "      <td>Saaveha</td>\n",
       "      <td>1200 - 1800</td>\n",
       "      <td>NaN</td>\n",
       "      <td>NaN</td>\n",
       "      <td>12.750</td>\n",
       "      <td>Sahakar Nagar</td>\n",
       "    </tr>\n",
       "    <tr>\n",
       "      <th>11569</th>\n",
       "      <td>Plot  Area</td>\n",
       "      <td>Immediate Possession</td>\n",
       "      <td>NaN</td>\n",
       "      <td>AVeldun</td>\n",
       "      <td>1350</td>\n",
       "      <td>NaN</td>\n",
       "      <td>NaN</td>\n",
       "      <td>8.440</td>\n",
       "      <td>Kothrud</td>\n",
       "    </tr>\n",
       "  </tbody>\n",
       "</table>\n",
       "</div>"
      ]
     },
     "execution_count": 16,
     "metadata": {},
     "output_type": "execute_result"
    }
   ],
   "execution_count": 16
  },
  {
   "cell_type": "code",
   "id": "51d87a68-6580-4a85-8bc9-5978fdfe448b",
   "metadata": {
    "ExecuteTime": {
     "end_time": "2025-02-16T10:15:55.342456Z",
     "start_time": "2025-02-16T10:15:55.325555Z"
    }
   },
   "source": [
    "# Drop rows with 3 or more missing values\n",
    "data_clean.dropna(axis=0, thresh=7, inplace=True)\n",
    "print(f\"\\n✅ Rows remaining after dropping: {data_clean.shape[0]}\\n\")"
   ],
   "outputs": [
    {
     "name": "stdout",
     "output_type": "stream",
     "text": [
      "\n",
      "✅ Rows remaining after dropping: 13304\n",
      "\n"
     ]
    }
   ],
   "execution_count": 17
  },
  {
   "cell_type": "code",
   "id": "a1e3b7b1-696c-4956-ab3f-d65e6b284027",
   "metadata": {
    "ExecuteTime": {
     "end_time": "2025-02-16T10:15:55.355997Z",
     "start_time": "2025-02-16T10:15:55.342456Z"
    }
   },
   "source": [
    "# Check the missing value \n",
    "data_clean.isnull().sum()"
   ],
   "outputs": [
    {
     "data": {
      "text/plain": [
       "area_type           0\n",
       "availability        0\n",
       "size                0\n",
       "society          5499\n",
       "total_sqft          0\n",
       "bath               57\n",
       "balcony           593\n",
       "price               0\n",
       "site_location       1\n",
       "dtype: int64"
      ]
     },
     "execution_count": 18,
     "metadata": {},
     "output_type": "execute_result"
    }
   ],
   "execution_count": 18
  },
  {
   "cell_type": "code",
   "id": "889bccd1-4a8b-4c08-ae0e-2e3e83f6d02a",
   "metadata": {
    "ExecuteTime": {
     "end_time": "2025-02-16T10:15:55.366906Z",
     "start_time": "2025-02-16T10:15:55.355997Z"
    }
   },
   "source": [
    "# Display unique values in 'size' column\n",
    "unique_sizes = data_clean[\"size\"].dropna().unique()\n",
    "print(\"\\n🏠 Unique Values in 'size' Column:\\n\")\n",
    "print(unique_sizes)"
   ],
   "outputs": [
    {
     "name": "stdout",
     "output_type": "stream",
     "text": [
      "\n",
      "🏠 Unique Values in 'size' Column:\n",
      "\n",
      "['2 BHK' '4 Bedroom' '3 BHK' '4 BHK' '6 Bedroom' '3 Bedroom' '1 BHK'\n",
      " '1 RK' '1 Bedroom' '8 Bedroom' '2 Bedroom' '7 Bedroom' '5 BHK' '7 BHK'\n",
      " '6 BHK' '5 Bedroom' '11 BHK' '9 BHK' '9 Bedroom' '27 BHK' '10 Bedroom'\n",
      " '11 Bedroom' '10 BHK' '19 BHK' '16 BHK' '43 Bedroom' '14 BHK' '8 BHK'\n",
      " '12 Bedroom' '13 BHK' '18 Bedroom']\n"
     ]
    }
   ],
   "execution_count": 19
  },
  {
   "cell_type": "code",
   "id": "0b9e4627-43e7-4b7b-bb82-45ed816c82bb",
   "metadata": {
    "ExecuteTime": {
     "end_time": "2025-02-16T10:15:55.388213Z",
     "start_time": "2025-02-16T10:15:55.366906Z"
    }
   },
   "source": [
    "# Extract the number of bedrooms ('bhk') safely\n",
    "data_clean[\"bhk\"] = data_clean[\"size\"].apply(lambda x: int(x.split(\" \")[0]) if isinstance(x, str) else None)"
   ],
   "outputs": [],
   "execution_count": 20
  },
  {
   "cell_type": "code",
   "id": "53d1c7b6-e5d7-45f0-8cd0-cd8de18191a9",
   "metadata": {
    "ExecuteTime": {
     "end_time": "2025-02-16T10:15:55.421412Z",
     "start_time": "2025-02-16T10:15:55.388213Z"
    }
   },
   "source": [
    "# Filter and display rows where 'bath' is missing\n",
    "data_clean[data_clean[\"bath\"].isnull()]"
   ],
   "outputs": [
    {
     "data": {
      "text/plain": [
       "                  area_type   availability       size  society  \\\n",
       "56           Built-up  Area         20-Feb  4 Bedroom  BrereAt   \n",
       "81           Built-up  Area         18-Oct  4 Bedroom  Gollela   \n",
       "224    Super built-up  Area         19-Dec      3 BHK  Jurdsig   \n",
       "344    Super built-up  Area         21-Dec      1 BHK  PrarePa   \n",
       "669    Super built-up  Area         18-Dec      5 BHK  Pehtsa    \n",
       "702    Super built-up  Area         18-Dec      5 BHK  Pehtsa    \n",
       "801    Super built-up  Area         18-Dec      4 BHK  Pehtsa    \n",
       "941    Super built-up  Area  Ready To Move  4 Bedroom  PrOakSi   \n",
       "1264         Built-up  Area         18-May  3 Bedroom  Asoilul   \n",
       "1267   Super built-up  Area         18-Jun      3 BHK  Shalkri   \n",
       "1686   Super built-up  Area         21-Dec      1 BHK  SudenEd   \n",
       "1724   Super built-up  Area  Ready To Move      1 BHK  Bhmesy    \n",
       "1765   Super built-up  Area         19-Dec      4 BHK  Shestlo   \n",
       "1852   Super built-up  Area         19-Jun      4 BHK  Vaaram    \n",
       "2500   Super built-up  Area         22-May      4 BHK  SoineC    \n",
       "2563   Super built-up  Area  Ready To Move      4 BHK  PhestOn   \n",
       "2944   Super built-up  Area         18-Dec      3 BHK  Sanzaat   \n",
       "2998   Super built-up  Area         19-May      3 BHK  Klark L   \n",
       "3370   Super built-up  Area  Ready To Move      3 BHK  Wiowsri   \n",
       "3544   Super built-up  Area         19-Mar      3 BHK  Puachal   \n",
       "3598   Super built-up  Area         18-Jun      4 BHK  SNnia E   \n",
       "3862   Super built-up  Area  Ready To Move  4 Bedroom  Prllasw   \n",
       "4210   Super built-up  Area  Ready To Move      3 BHK  Sariaat   \n",
       "4346   Super built-up  Area         18-Dec      3 BHK  Prtates   \n",
       "4843   Super built-up  Area         18-Mar      4 BHK  Rosha I   \n",
       "4894   Super built-up  Area  Ready To Move      3 BHK  SNeur G   \n",
       "4995   Super built-up  Area         18-Mar      3 BHK  SNontle   \n",
       "5464   Super built-up  Area         18-Sep      3 BHK  MCnexva   \n",
       "5498         Built-up  Area  Ready To Move  4 Bedroom  MRowsea   \n",
       "5747   Super built-up  Area         18-Apr      1 BHK  PrarePa   \n",
       "5918   Super built-up  Area  Ready To Move      4 BHK  Klark L   \n",
       "6256         Built-up  Area  Ready To Move  4 Bedroom  Shrds O   \n",
       "6343   Super built-up  Area         18-May      3 BHK  TGasyhu   \n",
       "6481   Super built-up  Area         18-Jun      3 BHK  SuVue S   \n",
       "6778   Super built-up  Area  Ready To Move      4 BHK  Saciatt   \n",
       "6873   Super built-up  Area         18-Mar      3 BHK  Shestut   \n",
       "6971   Super built-up  Area         18-Dec      3 BHK  BSlasin   \n",
       "7398   Super built-up  Area         18-Dec      3 BHK  Pehtsa    \n",
       "7623   Super built-up  Area  Ready To Move      3 BHK  Shitt S   \n",
       "7921   Super built-up  Area         18-Mar      3 BHK  PualeSk   \n",
       "8020   Super built-up  Area         22-May      4 BHK  SoineC    \n",
       "8056   Super built-up  Area  Ready To Move      3 BHK  BrdgeNo   \n",
       "8275   Super built-up  Area         21-Dec      1 BHK  PrarePa   \n",
       "8289   Super built-up  Area         18-Apr      2 BHK  PrarePa   \n",
       "8472   Super built-up  Area         18-Dec      4 BHK  Kinuerg   \n",
       "8783   Super built-up  Area         18-Dec      3 BHK  BSlasin   \n",
       "9129   Super built-up  Area         18-May      3 BHK  Brama P   \n",
       "9437         Built-up  Area         18-May  4 Bedroom  Asoilul   \n",
       "9699   Super built-up  Area         18-Jul      4 BHK  Mamespa   \n",
       "10330  Super built-up  Area  Ready To Move      3 BHK  Wiowsri   \n",
       "10553        Built-up  Area  Ready To Move  4 Bedroom  AztheBr   \n",
       "10726  Super built-up  Area         18-Mar      3 BHK  PualeSk   \n",
       "11297  Super built-up  Area         18-Dec      4 BHK  Exitym    \n",
       "11496  Super built-up  Area         21-Dec      1 BHK  PrarePa   \n",
       "12768        Built-up  Area         18-Mar  5 Bedroom  Toainnt   \n",
       "12861  Super built-up  Area         21-Dec      4 BHK  Moquach   \n",
       "13240  Super built-up  Area  Ready To Move      1 BHK  Pardsri   \n",
       "\n",
       "              total_sqft  bath  balcony    price               site_location  \\\n",
       "56           3010 - 3410   NaN      NaN  192.000                Model colony   \n",
       "81           2957 - 3450   NaN      NaN  224.500              Shukrawar Peth   \n",
       "224          1520 - 1740   NaN      NaN   74.820                    Hadapsar   \n",
       "344                  525   NaN      NaN   21.530                Model colony   \n",
       "669          4400 - 6640   NaN      NaN  375.000                    Wanowrie   \n",
       "702          4400 - 6800   NaN      NaN  548.500                    Gultekdi   \n",
       "801          4000 - 5249   NaN      NaN  453.000  Hadapsar Industrial Estate   \n",
       "941          3606 - 5091   NaN      NaN  304.000                 Satara Road   \n",
       "1264                2264   NaN      NaN  155.000                      Dapodi   \n",
       "1267         1440 - 1884   NaN      NaN   67.980                  Dhankawadi   \n",
       "1686           660 - 670   NaN      NaN   28.585                  Manik Bagh   \n",
       "1724           620 - 933   NaN      NaN   48.145                  Wakadewadi   \n",
       "1765         2695 - 2940   NaN      NaN  204.000               Kalyani Nagar   \n",
       "1852         3450 - 3472   NaN      NaN  173.000               Ghorpade Peth   \n",
       "2500   2249.81 - 4112.19   NaN      NaN  260.500                       Aundh   \n",
       "2563         3436 - 3643   NaN      NaN  424.500                      Pashan   \n",
       "2944         1564 - 1850   NaN      NaN   99.745                   Navi Peth   \n",
       "2998         1446 - 1506   NaN      NaN   98.940            Dhole Patil Road   \n",
       "3370         1430 - 1630   NaN      NaN   66.400                Bhavani Peth   \n",
       "3544         1482 - 1846   NaN      NaN   93.865              Vadgaon Budruk   \n",
       "3598         2805 - 3565   NaN      NaN  175.000              Kondhwa Budruk   \n",
       "3862         3293 - 5314   NaN      NaN  226.000            Dhole Patil Road   \n",
       "4210         2215 - 2475   NaN      NaN  293.000              Shukrawar Peth   \n",
       "4346         1650 - 2538   NaN      NaN  113.190                 Ganesh Peth   \n",
       "4843         1974 - 2171   NaN      NaN  111.000                      Khadki   \n",
       "4894         1360 - 1890   NaN      NaN   87.720                    Wanowrie   \n",
       "4995         2466 - 2856   NaN      NaN  226.500                  Anandnagar   \n",
       "5464         1310 - 1615   NaN      NaN   62.810              Vadgaon Budruk   \n",
       "5498         1782 - 2000   NaN      NaN   66.165                 Ganesh Peth   \n",
       "5747                 525   NaN      NaN   27.000               Sinhagad Road   \n",
       "5918         4260 - 4408   NaN      NaN  338.000                Narayan Peth   \n",
       "6256         3500 - 3600   NaN      NaN  167.500               Chandan Nagar   \n",
       "6343         1482 - 1684   NaN      NaN   70.445                       Baner   \n",
       "6481         1100 - 1225   NaN      NaN   30.215                     Kothrud   \n",
       "6778         4050 - 4075   NaN      NaN  341.000                Mukund Nagar   \n",
       "6873         1750 - 2640   NaN      NaN  152.000                Model colony   \n",
       "6971         1390 - 1600   NaN      NaN   61.280                    Mundhawa   \n",
       "7398         3103 - 3890   NaN      NaN  237.500                Balaji Nagar   \n",
       "7623         1450 - 1595   NaN      NaN   60.750                  Karve Road   \n",
       "7921         1618 - 1929   NaN      NaN   85.125                     Kothrud   \n",
       "8020   2249.81 - 4112.19   NaN      NaN  229.000                 Lulla Nagar   \n",
       "8056         1610 - 1880   NaN      NaN   98.485              Vadgaon Budruk   \n",
       "8275                 525   NaN      NaN   29.250                   Dehu Road   \n",
       "8289           700 - 900   NaN      NaN   41.145                    Hadapsar   \n",
       "8472         1925 - 2680   NaN      NaN   80.590                Fatima Nagar   \n",
       "8783         1390 - 1600   NaN      NaN   60.550               Kondhwa Khurd   \n",
       "9129         1410 - 1710   NaN      NaN   83.300             Bhandarkar Road   \n",
       "9437                2557   NaN      NaN  170.000                    Ghorpadi   \n",
       "9699         1791 - 4000   NaN      NaN  246.000                  Anandnagar   \n",
       "10330        1430 - 1630   NaN      NaN   70.990                Mukund Nagar   \n",
       "10553               3418   NaN      NaN  222.000               Wadgaon Sheri   \n",
       "10726        1618 - 1929   NaN      NaN  102.920                Prabhat Road   \n",
       "11297        3484 - 3550   NaN      NaN  161.500                   Padmavati   \n",
       "11496                525   NaN      NaN   27.000                  Rasta Peth   \n",
       "12768               3210   NaN      NaN  353.000                    Yerawada   \n",
       "12861        2204 - 2362   NaN      NaN  121.000                  Wakadewadi   \n",
       "13240        1020 - 1130   NaN      NaN   52.570              Vadgaon Budruk   \n",
       "\n",
       "       bhk  \n",
       "56       4  \n",
       "81       4  \n",
       "224      3  \n",
       "344      1  \n",
       "669      5  \n",
       "702      5  \n",
       "801      4  \n",
       "941      4  \n",
       "1264     3  \n",
       "1267     3  \n",
       "1686     1  \n",
       "1724     1  \n",
       "1765     4  \n",
       "1852     4  \n",
       "2500     4  \n",
       "2563     4  \n",
       "2944     3  \n",
       "2998     3  \n",
       "3370     3  \n",
       "3544     3  \n",
       "3598     4  \n",
       "3862     4  \n",
       "4210     3  \n",
       "4346     3  \n",
       "4843     4  \n",
       "4894     3  \n",
       "4995     3  \n",
       "5464     3  \n",
       "5498     4  \n",
       "5747     1  \n",
       "5918     4  \n",
       "6256     4  \n",
       "6343     3  \n",
       "6481     3  \n",
       "6778     4  \n",
       "6873     3  \n",
       "6971     3  \n",
       "7398     3  \n",
       "7623     3  \n",
       "7921     3  \n",
       "8020     4  \n",
       "8056     3  \n",
       "8275     1  \n",
       "8289     2  \n",
       "8472     4  \n",
       "8783     3  \n",
       "9129     3  \n",
       "9437     4  \n",
       "9699     4  \n",
       "10330    3  \n",
       "10553    4  \n",
       "10726    3  \n",
       "11297    4  \n",
       "11496    1  \n",
       "12768    5  \n",
       "12861    4  \n",
       "13240    1  "
      ],
      "text/html": [
       "<div>\n",
       "<style scoped>\n",
       "    .dataframe tbody tr th:only-of-type {\n",
       "        vertical-align: middle;\n",
       "    }\n",
       "\n",
       "    .dataframe tbody tr th {\n",
       "        vertical-align: top;\n",
       "    }\n",
       "\n",
       "    .dataframe thead th {\n",
       "        text-align: right;\n",
       "    }\n",
       "</style>\n",
       "<table border=\"1\" class=\"dataframe\">\n",
       "  <thead>\n",
       "    <tr style=\"text-align: right;\">\n",
       "      <th></th>\n",
       "      <th>area_type</th>\n",
       "      <th>availability</th>\n",
       "      <th>size</th>\n",
       "      <th>society</th>\n",
       "      <th>total_sqft</th>\n",
       "      <th>bath</th>\n",
       "      <th>balcony</th>\n",
       "      <th>price</th>\n",
       "      <th>site_location</th>\n",
       "      <th>bhk</th>\n",
       "    </tr>\n",
       "  </thead>\n",
       "  <tbody>\n",
       "    <tr>\n",
       "      <th>56</th>\n",
       "      <td>Built-up  Area</td>\n",
       "      <td>20-Feb</td>\n",
       "      <td>4 Bedroom</td>\n",
       "      <td>BrereAt</td>\n",
       "      <td>3010 - 3410</td>\n",
       "      <td>NaN</td>\n",
       "      <td>NaN</td>\n",
       "      <td>192.000</td>\n",
       "      <td>Model colony</td>\n",
       "      <td>4</td>\n",
       "    </tr>\n",
       "    <tr>\n",
       "      <th>81</th>\n",
       "      <td>Built-up  Area</td>\n",
       "      <td>18-Oct</td>\n",
       "      <td>4 Bedroom</td>\n",
       "      <td>Gollela</td>\n",
       "      <td>2957 - 3450</td>\n",
       "      <td>NaN</td>\n",
       "      <td>NaN</td>\n",
       "      <td>224.500</td>\n",
       "      <td>Shukrawar Peth</td>\n",
       "      <td>4</td>\n",
       "    </tr>\n",
       "    <tr>\n",
       "      <th>224</th>\n",
       "      <td>Super built-up  Area</td>\n",
       "      <td>19-Dec</td>\n",
       "      <td>3 BHK</td>\n",
       "      <td>Jurdsig</td>\n",
       "      <td>1520 - 1740</td>\n",
       "      <td>NaN</td>\n",
       "      <td>NaN</td>\n",
       "      <td>74.820</td>\n",
       "      <td>Hadapsar</td>\n",
       "      <td>3</td>\n",
       "    </tr>\n",
       "    <tr>\n",
       "      <th>344</th>\n",
       "      <td>Super built-up  Area</td>\n",
       "      <td>21-Dec</td>\n",
       "      <td>1 BHK</td>\n",
       "      <td>PrarePa</td>\n",
       "      <td>525</td>\n",
       "      <td>NaN</td>\n",
       "      <td>NaN</td>\n",
       "      <td>21.530</td>\n",
       "      <td>Model colony</td>\n",
       "      <td>1</td>\n",
       "    </tr>\n",
       "    <tr>\n",
       "      <th>669</th>\n",
       "      <td>Super built-up  Area</td>\n",
       "      <td>18-Dec</td>\n",
       "      <td>5 BHK</td>\n",
       "      <td>Pehtsa</td>\n",
       "      <td>4400 - 6640</td>\n",
       "      <td>NaN</td>\n",
       "      <td>NaN</td>\n",
       "      <td>375.000</td>\n",
       "      <td>Wanowrie</td>\n",
       "      <td>5</td>\n",
       "    </tr>\n",
       "    <tr>\n",
       "      <th>702</th>\n",
       "      <td>Super built-up  Area</td>\n",
       "      <td>18-Dec</td>\n",
       "      <td>5 BHK</td>\n",
       "      <td>Pehtsa</td>\n",
       "      <td>4400 - 6800</td>\n",
       "      <td>NaN</td>\n",
       "      <td>NaN</td>\n",
       "      <td>548.500</td>\n",
       "      <td>Gultekdi</td>\n",
       "      <td>5</td>\n",
       "    </tr>\n",
       "    <tr>\n",
       "      <th>801</th>\n",
       "      <td>Super built-up  Area</td>\n",
       "      <td>18-Dec</td>\n",
       "      <td>4 BHK</td>\n",
       "      <td>Pehtsa</td>\n",
       "      <td>4000 - 5249</td>\n",
       "      <td>NaN</td>\n",
       "      <td>NaN</td>\n",
       "      <td>453.000</td>\n",
       "      <td>Hadapsar Industrial Estate</td>\n",
       "      <td>4</td>\n",
       "    </tr>\n",
       "    <tr>\n",
       "      <th>941</th>\n",
       "      <td>Super built-up  Area</td>\n",
       "      <td>Ready To Move</td>\n",
       "      <td>4 Bedroom</td>\n",
       "      <td>PrOakSi</td>\n",
       "      <td>3606 - 5091</td>\n",
       "      <td>NaN</td>\n",
       "      <td>NaN</td>\n",
       "      <td>304.000</td>\n",
       "      <td>Satara Road</td>\n",
       "      <td>4</td>\n",
       "    </tr>\n",
       "    <tr>\n",
       "      <th>1264</th>\n",
       "      <td>Built-up  Area</td>\n",
       "      <td>18-May</td>\n",
       "      <td>3 Bedroom</td>\n",
       "      <td>Asoilul</td>\n",
       "      <td>2264</td>\n",
       "      <td>NaN</td>\n",
       "      <td>NaN</td>\n",
       "      <td>155.000</td>\n",
       "      <td>Dapodi</td>\n",
       "      <td>3</td>\n",
       "    </tr>\n",
       "    <tr>\n",
       "      <th>1267</th>\n",
       "      <td>Super built-up  Area</td>\n",
       "      <td>18-Jun</td>\n",
       "      <td>3 BHK</td>\n",
       "      <td>Shalkri</td>\n",
       "      <td>1440 - 1884</td>\n",
       "      <td>NaN</td>\n",
       "      <td>NaN</td>\n",
       "      <td>67.980</td>\n",
       "      <td>Dhankawadi</td>\n",
       "      <td>3</td>\n",
       "    </tr>\n",
       "    <tr>\n",
       "      <th>1686</th>\n",
       "      <td>Super built-up  Area</td>\n",
       "      <td>21-Dec</td>\n",
       "      <td>1 BHK</td>\n",
       "      <td>SudenEd</td>\n",
       "      <td>660 - 670</td>\n",
       "      <td>NaN</td>\n",
       "      <td>NaN</td>\n",
       "      <td>28.585</td>\n",
       "      <td>Manik Bagh</td>\n",
       "      <td>1</td>\n",
       "    </tr>\n",
       "    <tr>\n",
       "      <th>1724</th>\n",
       "      <td>Super built-up  Area</td>\n",
       "      <td>Ready To Move</td>\n",
       "      <td>1 BHK</td>\n",
       "      <td>Bhmesy</td>\n",
       "      <td>620 - 933</td>\n",
       "      <td>NaN</td>\n",
       "      <td>NaN</td>\n",
       "      <td>48.145</td>\n",
       "      <td>Wakadewadi</td>\n",
       "      <td>1</td>\n",
       "    </tr>\n",
       "    <tr>\n",
       "      <th>1765</th>\n",
       "      <td>Super built-up  Area</td>\n",
       "      <td>19-Dec</td>\n",
       "      <td>4 BHK</td>\n",
       "      <td>Shestlo</td>\n",
       "      <td>2695 - 2940</td>\n",
       "      <td>NaN</td>\n",
       "      <td>NaN</td>\n",
       "      <td>204.000</td>\n",
       "      <td>Kalyani Nagar</td>\n",
       "      <td>4</td>\n",
       "    </tr>\n",
       "    <tr>\n",
       "      <th>1852</th>\n",
       "      <td>Super built-up  Area</td>\n",
       "      <td>19-Jun</td>\n",
       "      <td>4 BHK</td>\n",
       "      <td>Vaaram</td>\n",
       "      <td>3450 - 3472</td>\n",
       "      <td>NaN</td>\n",
       "      <td>NaN</td>\n",
       "      <td>173.000</td>\n",
       "      <td>Ghorpade Peth</td>\n",
       "      <td>4</td>\n",
       "    </tr>\n",
       "    <tr>\n",
       "      <th>2500</th>\n",
       "      <td>Super built-up  Area</td>\n",
       "      <td>22-May</td>\n",
       "      <td>4 BHK</td>\n",
       "      <td>SoineC</td>\n",
       "      <td>2249.81 - 4112.19</td>\n",
       "      <td>NaN</td>\n",
       "      <td>NaN</td>\n",
       "      <td>260.500</td>\n",
       "      <td>Aundh</td>\n",
       "      <td>4</td>\n",
       "    </tr>\n",
       "    <tr>\n",
       "      <th>2563</th>\n",
       "      <td>Super built-up  Area</td>\n",
       "      <td>Ready To Move</td>\n",
       "      <td>4 BHK</td>\n",
       "      <td>PhestOn</td>\n",
       "      <td>3436 - 3643</td>\n",
       "      <td>NaN</td>\n",
       "      <td>NaN</td>\n",
       "      <td>424.500</td>\n",
       "      <td>Pashan</td>\n",
       "      <td>4</td>\n",
       "    </tr>\n",
       "    <tr>\n",
       "      <th>2944</th>\n",
       "      <td>Super built-up  Area</td>\n",
       "      <td>18-Dec</td>\n",
       "      <td>3 BHK</td>\n",
       "      <td>Sanzaat</td>\n",
       "      <td>1564 - 1850</td>\n",
       "      <td>NaN</td>\n",
       "      <td>NaN</td>\n",
       "      <td>99.745</td>\n",
       "      <td>Navi Peth</td>\n",
       "      <td>3</td>\n",
       "    </tr>\n",
       "    <tr>\n",
       "      <th>2998</th>\n",
       "      <td>Super built-up  Area</td>\n",
       "      <td>19-May</td>\n",
       "      <td>3 BHK</td>\n",
       "      <td>Klark L</td>\n",
       "      <td>1446 - 1506</td>\n",
       "      <td>NaN</td>\n",
       "      <td>NaN</td>\n",
       "      <td>98.940</td>\n",
       "      <td>Dhole Patil Road</td>\n",
       "      <td>3</td>\n",
       "    </tr>\n",
       "    <tr>\n",
       "      <th>3370</th>\n",
       "      <td>Super built-up  Area</td>\n",
       "      <td>Ready To Move</td>\n",
       "      <td>3 BHK</td>\n",
       "      <td>Wiowsri</td>\n",
       "      <td>1430 - 1630</td>\n",
       "      <td>NaN</td>\n",
       "      <td>NaN</td>\n",
       "      <td>66.400</td>\n",
       "      <td>Bhavani Peth</td>\n",
       "      <td>3</td>\n",
       "    </tr>\n",
       "    <tr>\n",
       "      <th>3544</th>\n",
       "      <td>Super built-up  Area</td>\n",
       "      <td>19-Mar</td>\n",
       "      <td>3 BHK</td>\n",
       "      <td>Puachal</td>\n",
       "      <td>1482 - 1846</td>\n",
       "      <td>NaN</td>\n",
       "      <td>NaN</td>\n",
       "      <td>93.865</td>\n",
       "      <td>Vadgaon Budruk</td>\n",
       "      <td>3</td>\n",
       "    </tr>\n",
       "    <tr>\n",
       "      <th>3598</th>\n",
       "      <td>Super built-up  Area</td>\n",
       "      <td>18-Jun</td>\n",
       "      <td>4 BHK</td>\n",
       "      <td>SNnia E</td>\n",
       "      <td>2805 - 3565</td>\n",
       "      <td>NaN</td>\n",
       "      <td>NaN</td>\n",
       "      <td>175.000</td>\n",
       "      <td>Kondhwa Budruk</td>\n",
       "      <td>4</td>\n",
       "    </tr>\n",
       "    <tr>\n",
       "      <th>3862</th>\n",
       "      <td>Super built-up  Area</td>\n",
       "      <td>Ready To Move</td>\n",
       "      <td>4 Bedroom</td>\n",
       "      <td>Prllasw</td>\n",
       "      <td>3293 - 5314</td>\n",
       "      <td>NaN</td>\n",
       "      <td>NaN</td>\n",
       "      <td>226.000</td>\n",
       "      <td>Dhole Patil Road</td>\n",
       "      <td>4</td>\n",
       "    </tr>\n",
       "    <tr>\n",
       "      <th>4210</th>\n",
       "      <td>Super built-up  Area</td>\n",
       "      <td>Ready To Move</td>\n",
       "      <td>3 BHK</td>\n",
       "      <td>Sariaat</td>\n",
       "      <td>2215 - 2475</td>\n",
       "      <td>NaN</td>\n",
       "      <td>NaN</td>\n",
       "      <td>293.000</td>\n",
       "      <td>Shukrawar Peth</td>\n",
       "      <td>3</td>\n",
       "    </tr>\n",
       "    <tr>\n",
       "      <th>4346</th>\n",
       "      <td>Super built-up  Area</td>\n",
       "      <td>18-Dec</td>\n",
       "      <td>3 BHK</td>\n",
       "      <td>Prtates</td>\n",
       "      <td>1650 - 2538</td>\n",
       "      <td>NaN</td>\n",
       "      <td>NaN</td>\n",
       "      <td>113.190</td>\n",
       "      <td>Ganesh Peth</td>\n",
       "      <td>3</td>\n",
       "    </tr>\n",
       "    <tr>\n",
       "      <th>4843</th>\n",
       "      <td>Super built-up  Area</td>\n",
       "      <td>18-Mar</td>\n",
       "      <td>4 BHK</td>\n",
       "      <td>Rosha I</td>\n",
       "      <td>1974 - 2171</td>\n",
       "      <td>NaN</td>\n",
       "      <td>NaN</td>\n",
       "      <td>111.000</td>\n",
       "      <td>Khadki</td>\n",
       "      <td>4</td>\n",
       "    </tr>\n",
       "    <tr>\n",
       "      <th>4894</th>\n",
       "      <td>Super built-up  Area</td>\n",
       "      <td>Ready To Move</td>\n",
       "      <td>3 BHK</td>\n",
       "      <td>SNeur G</td>\n",
       "      <td>1360 - 1890</td>\n",
       "      <td>NaN</td>\n",
       "      <td>NaN</td>\n",
       "      <td>87.720</td>\n",
       "      <td>Wanowrie</td>\n",
       "      <td>3</td>\n",
       "    </tr>\n",
       "    <tr>\n",
       "      <th>4995</th>\n",
       "      <td>Super built-up  Area</td>\n",
       "      <td>18-Mar</td>\n",
       "      <td>3 BHK</td>\n",
       "      <td>SNontle</td>\n",
       "      <td>2466 - 2856</td>\n",
       "      <td>NaN</td>\n",
       "      <td>NaN</td>\n",
       "      <td>226.500</td>\n",
       "      <td>Anandnagar</td>\n",
       "      <td>3</td>\n",
       "    </tr>\n",
       "    <tr>\n",
       "      <th>5464</th>\n",
       "      <td>Super built-up  Area</td>\n",
       "      <td>18-Sep</td>\n",
       "      <td>3 BHK</td>\n",
       "      <td>MCnexva</td>\n",
       "      <td>1310 - 1615</td>\n",
       "      <td>NaN</td>\n",
       "      <td>NaN</td>\n",
       "      <td>62.810</td>\n",
       "      <td>Vadgaon Budruk</td>\n",
       "      <td>3</td>\n",
       "    </tr>\n",
       "    <tr>\n",
       "      <th>5498</th>\n",
       "      <td>Built-up  Area</td>\n",
       "      <td>Ready To Move</td>\n",
       "      <td>4 Bedroom</td>\n",
       "      <td>MRowsea</td>\n",
       "      <td>1782 - 2000</td>\n",
       "      <td>NaN</td>\n",
       "      <td>NaN</td>\n",
       "      <td>66.165</td>\n",
       "      <td>Ganesh Peth</td>\n",
       "      <td>4</td>\n",
       "    </tr>\n",
       "    <tr>\n",
       "      <th>5747</th>\n",
       "      <td>Super built-up  Area</td>\n",
       "      <td>18-Apr</td>\n",
       "      <td>1 BHK</td>\n",
       "      <td>PrarePa</td>\n",
       "      <td>525</td>\n",
       "      <td>NaN</td>\n",
       "      <td>NaN</td>\n",
       "      <td>27.000</td>\n",
       "      <td>Sinhagad Road</td>\n",
       "      <td>1</td>\n",
       "    </tr>\n",
       "    <tr>\n",
       "      <th>5918</th>\n",
       "      <td>Super built-up  Area</td>\n",
       "      <td>Ready To Move</td>\n",
       "      <td>4 BHK</td>\n",
       "      <td>Klark L</td>\n",
       "      <td>4260 - 4408</td>\n",
       "      <td>NaN</td>\n",
       "      <td>NaN</td>\n",
       "      <td>338.000</td>\n",
       "      <td>Narayan Peth</td>\n",
       "      <td>4</td>\n",
       "    </tr>\n",
       "    <tr>\n",
       "      <th>6256</th>\n",
       "      <td>Built-up  Area</td>\n",
       "      <td>Ready To Move</td>\n",
       "      <td>4 Bedroom</td>\n",
       "      <td>Shrds O</td>\n",
       "      <td>3500 - 3600</td>\n",
       "      <td>NaN</td>\n",
       "      <td>NaN</td>\n",
       "      <td>167.500</td>\n",
       "      <td>Chandan Nagar</td>\n",
       "      <td>4</td>\n",
       "    </tr>\n",
       "    <tr>\n",
       "      <th>6343</th>\n",
       "      <td>Super built-up  Area</td>\n",
       "      <td>18-May</td>\n",
       "      <td>3 BHK</td>\n",
       "      <td>TGasyhu</td>\n",
       "      <td>1482 - 1684</td>\n",
       "      <td>NaN</td>\n",
       "      <td>NaN</td>\n",
       "      <td>70.445</td>\n",
       "      <td>Baner</td>\n",
       "      <td>3</td>\n",
       "    </tr>\n",
       "    <tr>\n",
       "      <th>6481</th>\n",
       "      <td>Super built-up  Area</td>\n",
       "      <td>18-Jun</td>\n",
       "      <td>3 BHK</td>\n",
       "      <td>SuVue S</td>\n",
       "      <td>1100 - 1225</td>\n",
       "      <td>NaN</td>\n",
       "      <td>NaN</td>\n",
       "      <td>30.215</td>\n",
       "      <td>Kothrud</td>\n",
       "      <td>3</td>\n",
       "    </tr>\n",
       "    <tr>\n",
       "      <th>6778</th>\n",
       "      <td>Super built-up  Area</td>\n",
       "      <td>Ready To Move</td>\n",
       "      <td>4 BHK</td>\n",
       "      <td>Saciatt</td>\n",
       "      <td>4050 - 4075</td>\n",
       "      <td>NaN</td>\n",
       "      <td>NaN</td>\n",
       "      <td>341.000</td>\n",
       "      <td>Mukund Nagar</td>\n",
       "      <td>4</td>\n",
       "    </tr>\n",
       "    <tr>\n",
       "      <th>6873</th>\n",
       "      <td>Super built-up  Area</td>\n",
       "      <td>18-Mar</td>\n",
       "      <td>3 BHK</td>\n",
       "      <td>Shestut</td>\n",
       "      <td>1750 - 2640</td>\n",
       "      <td>NaN</td>\n",
       "      <td>NaN</td>\n",
       "      <td>152.000</td>\n",
       "      <td>Model colony</td>\n",
       "      <td>3</td>\n",
       "    </tr>\n",
       "    <tr>\n",
       "      <th>6971</th>\n",
       "      <td>Super built-up  Area</td>\n",
       "      <td>18-Dec</td>\n",
       "      <td>3 BHK</td>\n",
       "      <td>BSlasin</td>\n",
       "      <td>1390 - 1600</td>\n",
       "      <td>NaN</td>\n",
       "      <td>NaN</td>\n",
       "      <td>61.280</td>\n",
       "      <td>Mundhawa</td>\n",
       "      <td>3</td>\n",
       "    </tr>\n",
       "    <tr>\n",
       "      <th>7398</th>\n",
       "      <td>Super built-up  Area</td>\n",
       "      <td>18-Dec</td>\n",
       "      <td>3 BHK</td>\n",
       "      <td>Pehtsa</td>\n",
       "      <td>3103 - 3890</td>\n",
       "      <td>NaN</td>\n",
       "      <td>NaN</td>\n",
       "      <td>237.500</td>\n",
       "      <td>Balaji Nagar</td>\n",
       "      <td>3</td>\n",
       "    </tr>\n",
       "    <tr>\n",
       "      <th>7623</th>\n",
       "      <td>Super built-up  Area</td>\n",
       "      <td>Ready To Move</td>\n",
       "      <td>3 BHK</td>\n",
       "      <td>Shitt S</td>\n",
       "      <td>1450 - 1595</td>\n",
       "      <td>NaN</td>\n",
       "      <td>NaN</td>\n",
       "      <td>60.750</td>\n",
       "      <td>Karve Road</td>\n",
       "      <td>3</td>\n",
       "    </tr>\n",
       "    <tr>\n",
       "      <th>7921</th>\n",
       "      <td>Super built-up  Area</td>\n",
       "      <td>18-Mar</td>\n",
       "      <td>3 BHK</td>\n",
       "      <td>PualeSk</td>\n",
       "      <td>1618 - 1929</td>\n",
       "      <td>NaN</td>\n",
       "      <td>NaN</td>\n",
       "      <td>85.125</td>\n",
       "      <td>Kothrud</td>\n",
       "      <td>3</td>\n",
       "    </tr>\n",
       "    <tr>\n",
       "      <th>8020</th>\n",
       "      <td>Super built-up  Area</td>\n",
       "      <td>22-May</td>\n",
       "      <td>4 BHK</td>\n",
       "      <td>SoineC</td>\n",
       "      <td>2249.81 - 4112.19</td>\n",
       "      <td>NaN</td>\n",
       "      <td>NaN</td>\n",
       "      <td>229.000</td>\n",
       "      <td>Lulla Nagar</td>\n",
       "      <td>4</td>\n",
       "    </tr>\n",
       "    <tr>\n",
       "      <th>8056</th>\n",
       "      <td>Super built-up  Area</td>\n",
       "      <td>Ready To Move</td>\n",
       "      <td>3 BHK</td>\n",
       "      <td>BrdgeNo</td>\n",
       "      <td>1610 - 1880</td>\n",
       "      <td>NaN</td>\n",
       "      <td>NaN</td>\n",
       "      <td>98.485</td>\n",
       "      <td>Vadgaon Budruk</td>\n",
       "      <td>3</td>\n",
       "    </tr>\n",
       "    <tr>\n",
       "      <th>8275</th>\n",
       "      <td>Super built-up  Area</td>\n",
       "      <td>21-Dec</td>\n",
       "      <td>1 BHK</td>\n",
       "      <td>PrarePa</td>\n",
       "      <td>525</td>\n",
       "      <td>NaN</td>\n",
       "      <td>NaN</td>\n",
       "      <td>29.250</td>\n",
       "      <td>Dehu Road</td>\n",
       "      <td>1</td>\n",
       "    </tr>\n",
       "    <tr>\n",
       "      <th>8289</th>\n",
       "      <td>Super built-up  Area</td>\n",
       "      <td>18-Apr</td>\n",
       "      <td>2 BHK</td>\n",
       "      <td>PrarePa</td>\n",
       "      <td>700 - 900</td>\n",
       "      <td>NaN</td>\n",
       "      <td>NaN</td>\n",
       "      <td>41.145</td>\n",
       "      <td>Hadapsar</td>\n",
       "      <td>2</td>\n",
       "    </tr>\n",
       "    <tr>\n",
       "      <th>8472</th>\n",
       "      <td>Super built-up  Area</td>\n",
       "      <td>18-Dec</td>\n",
       "      <td>4 BHK</td>\n",
       "      <td>Kinuerg</td>\n",
       "      <td>1925 - 2680</td>\n",
       "      <td>NaN</td>\n",
       "      <td>NaN</td>\n",
       "      <td>80.590</td>\n",
       "      <td>Fatima Nagar</td>\n",
       "      <td>4</td>\n",
       "    </tr>\n",
       "    <tr>\n",
       "      <th>8783</th>\n",
       "      <td>Super built-up  Area</td>\n",
       "      <td>18-Dec</td>\n",
       "      <td>3 BHK</td>\n",
       "      <td>BSlasin</td>\n",
       "      <td>1390 - 1600</td>\n",
       "      <td>NaN</td>\n",
       "      <td>NaN</td>\n",
       "      <td>60.550</td>\n",
       "      <td>Kondhwa Khurd</td>\n",
       "      <td>3</td>\n",
       "    </tr>\n",
       "    <tr>\n",
       "      <th>9129</th>\n",
       "      <td>Super built-up  Area</td>\n",
       "      <td>18-May</td>\n",
       "      <td>3 BHK</td>\n",
       "      <td>Brama P</td>\n",
       "      <td>1410 - 1710</td>\n",
       "      <td>NaN</td>\n",
       "      <td>NaN</td>\n",
       "      <td>83.300</td>\n",
       "      <td>Bhandarkar Road</td>\n",
       "      <td>3</td>\n",
       "    </tr>\n",
       "    <tr>\n",
       "      <th>9437</th>\n",
       "      <td>Built-up  Area</td>\n",
       "      <td>18-May</td>\n",
       "      <td>4 Bedroom</td>\n",
       "      <td>Asoilul</td>\n",
       "      <td>2557</td>\n",
       "      <td>NaN</td>\n",
       "      <td>NaN</td>\n",
       "      <td>170.000</td>\n",
       "      <td>Ghorpadi</td>\n",
       "      <td>4</td>\n",
       "    </tr>\n",
       "    <tr>\n",
       "      <th>9699</th>\n",
       "      <td>Super built-up  Area</td>\n",
       "      <td>18-Jul</td>\n",
       "      <td>4 BHK</td>\n",
       "      <td>Mamespa</td>\n",
       "      <td>1791 - 4000</td>\n",
       "      <td>NaN</td>\n",
       "      <td>NaN</td>\n",
       "      <td>246.000</td>\n",
       "      <td>Anandnagar</td>\n",
       "      <td>4</td>\n",
       "    </tr>\n",
       "    <tr>\n",
       "      <th>10330</th>\n",
       "      <td>Super built-up  Area</td>\n",
       "      <td>Ready To Move</td>\n",
       "      <td>3 BHK</td>\n",
       "      <td>Wiowsri</td>\n",
       "      <td>1430 - 1630</td>\n",
       "      <td>NaN</td>\n",
       "      <td>NaN</td>\n",
       "      <td>70.990</td>\n",
       "      <td>Mukund Nagar</td>\n",
       "      <td>3</td>\n",
       "    </tr>\n",
       "    <tr>\n",
       "      <th>10553</th>\n",
       "      <td>Built-up  Area</td>\n",
       "      <td>Ready To Move</td>\n",
       "      <td>4 Bedroom</td>\n",
       "      <td>AztheBr</td>\n",
       "      <td>3418</td>\n",
       "      <td>NaN</td>\n",
       "      <td>NaN</td>\n",
       "      <td>222.000</td>\n",
       "      <td>Wadgaon Sheri</td>\n",
       "      <td>4</td>\n",
       "    </tr>\n",
       "    <tr>\n",
       "      <th>10726</th>\n",
       "      <td>Super built-up  Area</td>\n",
       "      <td>18-Mar</td>\n",
       "      <td>3 BHK</td>\n",
       "      <td>PualeSk</td>\n",
       "      <td>1618 - 1929</td>\n",
       "      <td>NaN</td>\n",
       "      <td>NaN</td>\n",
       "      <td>102.920</td>\n",
       "      <td>Prabhat Road</td>\n",
       "      <td>3</td>\n",
       "    </tr>\n",
       "    <tr>\n",
       "      <th>11297</th>\n",
       "      <td>Super built-up  Area</td>\n",
       "      <td>18-Dec</td>\n",
       "      <td>4 BHK</td>\n",
       "      <td>Exitym</td>\n",
       "      <td>3484 - 3550</td>\n",
       "      <td>NaN</td>\n",
       "      <td>NaN</td>\n",
       "      <td>161.500</td>\n",
       "      <td>Padmavati</td>\n",
       "      <td>4</td>\n",
       "    </tr>\n",
       "    <tr>\n",
       "      <th>11496</th>\n",
       "      <td>Super built-up  Area</td>\n",
       "      <td>21-Dec</td>\n",
       "      <td>1 BHK</td>\n",
       "      <td>PrarePa</td>\n",
       "      <td>525</td>\n",
       "      <td>NaN</td>\n",
       "      <td>NaN</td>\n",
       "      <td>27.000</td>\n",
       "      <td>Rasta Peth</td>\n",
       "      <td>1</td>\n",
       "    </tr>\n",
       "    <tr>\n",
       "      <th>12768</th>\n",
       "      <td>Built-up  Area</td>\n",
       "      <td>18-Mar</td>\n",
       "      <td>5 Bedroom</td>\n",
       "      <td>Toainnt</td>\n",
       "      <td>3210</td>\n",
       "      <td>NaN</td>\n",
       "      <td>NaN</td>\n",
       "      <td>353.000</td>\n",
       "      <td>Yerawada</td>\n",
       "      <td>5</td>\n",
       "    </tr>\n",
       "    <tr>\n",
       "      <th>12861</th>\n",
       "      <td>Super built-up  Area</td>\n",
       "      <td>21-Dec</td>\n",
       "      <td>4 BHK</td>\n",
       "      <td>Moquach</td>\n",
       "      <td>2204 - 2362</td>\n",
       "      <td>NaN</td>\n",
       "      <td>NaN</td>\n",
       "      <td>121.000</td>\n",
       "      <td>Wakadewadi</td>\n",
       "      <td>4</td>\n",
       "    </tr>\n",
       "    <tr>\n",
       "      <th>13240</th>\n",
       "      <td>Super built-up  Area</td>\n",
       "      <td>Ready To Move</td>\n",
       "      <td>1 BHK</td>\n",
       "      <td>Pardsri</td>\n",
       "      <td>1020 - 1130</td>\n",
       "      <td>NaN</td>\n",
       "      <td>NaN</td>\n",
       "      <td>52.570</td>\n",
       "      <td>Vadgaon Budruk</td>\n",
       "      <td>1</td>\n",
       "    </tr>\n",
       "  </tbody>\n",
       "</table>\n",
       "</div>"
      ]
     },
     "execution_count": 21,
     "metadata": {},
     "output_type": "execute_result"
    }
   ],
   "execution_count": 21
  },
  {
   "cell_type": "code",
   "id": "147995af-45fe-4586-8c21-6b54ac01ab58",
   "metadata": {
    "ExecuteTime": {
     "end_time": "2025-02-16T10:15:55.602649Z",
     "start_time": "2025-02-16T10:15:55.427945Z"
    }
   },
   "source": [
    "# Get the most common (mode) bathroom count for each BHK\n",
    "bhk_groupby_bathroom = data_clean.groupby(\"bhk\")[\"bath\"].agg(lambda x: x.mode()[0] if not x.mode().empty else None)\n",
    "\n",
    "# Function to fill missing \"bath\" based on BHK's most common bath count\n",
    "def fill_bathrooms(row):\n",
    "    if pd.isnull(row[\"bath\"]):  # If bath is missing\n",
    "        return bhk_groupby_bathroom.get(row[\"bhk\"], row[\"bath\"])  # Get most common bath for BHK\n",
    "    return row[\"bath\"]  # Keep existing bath value if not missing\n",
    "\n",
    "# Apply function to fill missing values\n",
    "data_clean[\"bath\"] = data_clean.apply(fill_bathrooms, axis=1)\n",
    "\n",
    "# Convert bath to integer (optional, if all values are now filled)\n",
    "data_clean[\"bath\"] = data_clean[\"bath\"].astype(int)\n",
    "\n",
    "# Display the cleaned dataset\n",
    "data_clean.head(10)\n"
   ],
   "outputs": [
    {
     "data": {
      "text/plain": [
       "              area_type   availability       size  society total_sqft  bath  \\\n",
       "0  Super built-up  Area         19-Dec      2 BHK  Coomee        1056     2   \n",
       "1            Plot  Area  Ready To Move  4 Bedroom  Theanmp       2600     5   \n",
       "2        Built-up  Area  Ready To Move      3 BHK      NaN       1440     2   \n",
       "3  Super built-up  Area  Ready To Move      3 BHK  Soiewre       1521     3   \n",
       "4  Super built-up  Area  Ready To Move      2 BHK      NaN       1200     2   \n",
       "5  Super built-up  Area  Ready To Move      2 BHK  DuenaTa       1170     2   \n",
       "6  Super built-up  Area         18-May      4 BHK  Jaades        2732     4   \n",
       "7  Super built-up  Area  Ready To Move      4 BHK  Brway G       3300     4   \n",
       "8  Super built-up  Area  Ready To Move      3 BHK      NaN       1310     3   \n",
       "9            Plot  Area  Ready To Move  6 Bedroom      NaN       1020     6   \n",
       "\n",
       "   balcony   price    site_location  bhk  \n",
       "0      1.0   39.07      Alandi Road    2  \n",
       "1      3.0  120.00  Ambegaon Budruk    4  \n",
       "2      3.0   62.00       Anandnagar    3  \n",
       "3      1.0   95.00            Aundh    3  \n",
       "4      1.0   51.00       Aundh Road    2  \n",
       "5      1.0   38.00     Balaji Nagar    2  \n",
       "6      NaN  204.00            Baner    4  \n",
       "7      NaN  600.00       Baner road    4  \n",
       "8      1.0   63.25  Bhandarkar Road    3  \n",
       "9      NaN  370.00     Bhavani Peth    6  "
      ],
      "text/html": [
       "<div>\n",
       "<style scoped>\n",
       "    .dataframe tbody tr th:only-of-type {\n",
       "        vertical-align: middle;\n",
       "    }\n",
       "\n",
       "    .dataframe tbody tr th {\n",
       "        vertical-align: top;\n",
       "    }\n",
       "\n",
       "    .dataframe thead th {\n",
       "        text-align: right;\n",
       "    }\n",
       "</style>\n",
       "<table border=\"1\" class=\"dataframe\">\n",
       "  <thead>\n",
       "    <tr style=\"text-align: right;\">\n",
       "      <th></th>\n",
       "      <th>area_type</th>\n",
       "      <th>availability</th>\n",
       "      <th>size</th>\n",
       "      <th>society</th>\n",
       "      <th>total_sqft</th>\n",
       "      <th>bath</th>\n",
       "      <th>balcony</th>\n",
       "      <th>price</th>\n",
       "      <th>site_location</th>\n",
       "      <th>bhk</th>\n",
       "    </tr>\n",
       "  </thead>\n",
       "  <tbody>\n",
       "    <tr>\n",
       "      <th>0</th>\n",
       "      <td>Super built-up  Area</td>\n",
       "      <td>19-Dec</td>\n",
       "      <td>2 BHK</td>\n",
       "      <td>Coomee</td>\n",
       "      <td>1056</td>\n",
       "      <td>2</td>\n",
       "      <td>1.0</td>\n",
       "      <td>39.07</td>\n",
       "      <td>Alandi Road</td>\n",
       "      <td>2</td>\n",
       "    </tr>\n",
       "    <tr>\n",
       "      <th>1</th>\n",
       "      <td>Plot  Area</td>\n",
       "      <td>Ready To Move</td>\n",
       "      <td>4 Bedroom</td>\n",
       "      <td>Theanmp</td>\n",
       "      <td>2600</td>\n",
       "      <td>5</td>\n",
       "      <td>3.0</td>\n",
       "      <td>120.00</td>\n",
       "      <td>Ambegaon Budruk</td>\n",
       "      <td>4</td>\n",
       "    </tr>\n",
       "    <tr>\n",
       "      <th>2</th>\n",
       "      <td>Built-up  Area</td>\n",
       "      <td>Ready To Move</td>\n",
       "      <td>3 BHK</td>\n",
       "      <td>NaN</td>\n",
       "      <td>1440</td>\n",
       "      <td>2</td>\n",
       "      <td>3.0</td>\n",
       "      <td>62.00</td>\n",
       "      <td>Anandnagar</td>\n",
       "      <td>3</td>\n",
       "    </tr>\n",
       "    <tr>\n",
       "      <th>3</th>\n",
       "      <td>Super built-up  Area</td>\n",
       "      <td>Ready To Move</td>\n",
       "      <td>3 BHK</td>\n",
       "      <td>Soiewre</td>\n",
       "      <td>1521</td>\n",
       "      <td>3</td>\n",
       "      <td>1.0</td>\n",
       "      <td>95.00</td>\n",
       "      <td>Aundh</td>\n",
       "      <td>3</td>\n",
       "    </tr>\n",
       "    <tr>\n",
       "      <th>4</th>\n",
       "      <td>Super built-up  Area</td>\n",
       "      <td>Ready To Move</td>\n",
       "      <td>2 BHK</td>\n",
       "      <td>NaN</td>\n",
       "      <td>1200</td>\n",
       "      <td>2</td>\n",
       "      <td>1.0</td>\n",
       "      <td>51.00</td>\n",
       "      <td>Aundh Road</td>\n",
       "      <td>2</td>\n",
       "    </tr>\n",
       "    <tr>\n",
       "      <th>5</th>\n",
       "      <td>Super built-up  Area</td>\n",
       "      <td>Ready To Move</td>\n",
       "      <td>2 BHK</td>\n",
       "      <td>DuenaTa</td>\n",
       "      <td>1170</td>\n",
       "      <td>2</td>\n",
       "      <td>1.0</td>\n",
       "      <td>38.00</td>\n",
       "      <td>Balaji Nagar</td>\n",
       "      <td>2</td>\n",
       "    </tr>\n",
       "    <tr>\n",
       "      <th>6</th>\n",
       "      <td>Super built-up  Area</td>\n",
       "      <td>18-May</td>\n",
       "      <td>4 BHK</td>\n",
       "      <td>Jaades</td>\n",
       "      <td>2732</td>\n",
       "      <td>4</td>\n",
       "      <td>NaN</td>\n",
       "      <td>204.00</td>\n",
       "      <td>Baner</td>\n",
       "      <td>4</td>\n",
       "    </tr>\n",
       "    <tr>\n",
       "      <th>7</th>\n",
       "      <td>Super built-up  Area</td>\n",
       "      <td>Ready To Move</td>\n",
       "      <td>4 BHK</td>\n",
       "      <td>Brway G</td>\n",
       "      <td>3300</td>\n",
       "      <td>4</td>\n",
       "      <td>NaN</td>\n",
       "      <td>600.00</td>\n",
       "      <td>Baner road</td>\n",
       "      <td>4</td>\n",
       "    </tr>\n",
       "    <tr>\n",
       "      <th>8</th>\n",
       "      <td>Super built-up  Area</td>\n",
       "      <td>Ready To Move</td>\n",
       "      <td>3 BHK</td>\n",
       "      <td>NaN</td>\n",
       "      <td>1310</td>\n",
       "      <td>3</td>\n",
       "      <td>1.0</td>\n",
       "      <td>63.25</td>\n",
       "      <td>Bhandarkar Road</td>\n",
       "      <td>3</td>\n",
       "    </tr>\n",
       "    <tr>\n",
       "      <th>9</th>\n",
       "      <td>Plot  Area</td>\n",
       "      <td>Ready To Move</td>\n",
       "      <td>6 Bedroom</td>\n",
       "      <td>NaN</td>\n",
       "      <td>1020</td>\n",
       "      <td>6</td>\n",
       "      <td>NaN</td>\n",
       "      <td>370.00</td>\n",
       "      <td>Bhavani Peth</td>\n",
       "      <td>6</td>\n",
       "    </tr>\n",
       "  </tbody>\n",
       "</table>\n",
       "</div>"
      ]
     },
     "execution_count": 22,
     "metadata": {},
     "output_type": "execute_result"
    }
   ],
   "execution_count": 22
  },
  {
   "cell_type": "code",
   "id": "61dcdf07-a214-4851-95e0-b1b95c8cc999",
   "metadata": {
    "ExecuteTime": {
     "end_time": "2025-02-16T10:15:55.800637Z",
     "start_time": "2025-02-16T10:15:55.602649Z"
    }
   },
   "source": [
    "# Get the most common (mode) balcony count for each BHK\n",
    "bhk_groupby_balcony = data_clean.groupby(\"bhk\")[\"balcony\"].agg(lambda x: x.mode()[0] if not x.mode().empty else np.nan)\n",
    "\n",
    "# Function to fill missing balcony values\n",
    "def fill_balcony(row):\n",
    "    if pd.isnull(row[\"balcony\"]):  # If balcony is missing\n",
    "        return bhk_groupby_balcony.get(row[\"bhk\"], np.nan)  # Get mode for BHK, otherwise keep NaN\n",
    "    return row[\"balcony\"]  # Keep existing value\n",
    "\n",
    "# Apply function to fill missing values\n",
    "data_clean[\"balcony\"] = data_clean.apply(fill_balcony, axis=1)\n",
    "\n",
    "# Ensure no NaN values remain before converting to int\n",
    "data_clean[\"balcony\"].fillna(0, inplace=True)  # Replace NaN with 0 (or median)\n",
    "\n",
    "# Convert to integer safely\n",
    "data_clean[\"balcony\"] = data_clean[\"balcony\"].astype(int)\n",
    "\n",
    "# Display the cleaned dataset\n",
    "data_clean.head(10)\n",
    "\n"
   ],
   "outputs": [
    {
     "name": "stderr",
     "output_type": "stream",
     "text": [
      "C:\\Users\\Lenovo\\AppData\\Local\\Temp\\ipykernel_4076\\4005703319.py:14: FutureWarning: A value is trying to be set on a copy of a DataFrame or Series through chained assignment using an inplace method.\n",
      "The behavior will change in pandas 3.0. This inplace method will never work because the intermediate object on which we are setting values always behaves as a copy.\n",
      "\n",
      "For example, when doing 'df[col].method(value, inplace=True)', try using 'df.method({col: value}, inplace=True)' or df[col] = df[col].method(value) instead, to perform the operation inplace on the original object.\n",
      "\n",
      "\n",
      "  data_clean[\"balcony\"].fillna(0, inplace=True)  # Replace NaN with 0 (or median)\n"
     ]
    },
    {
     "data": {
      "text/plain": [
       "              area_type   availability       size  society total_sqft  bath  \\\n",
       "0  Super built-up  Area         19-Dec      2 BHK  Coomee        1056     2   \n",
       "1            Plot  Area  Ready To Move  4 Bedroom  Theanmp       2600     5   \n",
       "2        Built-up  Area  Ready To Move      3 BHK      NaN       1440     2   \n",
       "3  Super built-up  Area  Ready To Move      3 BHK  Soiewre       1521     3   \n",
       "4  Super built-up  Area  Ready To Move      2 BHK      NaN       1200     2   \n",
       "5  Super built-up  Area  Ready To Move      2 BHK  DuenaTa       1170     2   \n",
       "6  Super built-up  Area         18-May      4 BHK  Jaades        2732     4   \n",
       "7  Super built-up  Area  Ready To Move      4 BHK  Brway G       3300     4   \n",
       "8  Super built-up  Area  Ready To Move      3 BHK      NaN       1310     3   \n",
       "9            Plot  Area  Ready To Move  6 Bedroom      NaN       1020     6   \n",
       "\n",
       "   balcony   price    site_location  bhk  \n",
       "0        1   39.07      Alandi Road    2  \n",
       "1        3  120.00  Ambegaon Budruk    4  \n",
       "2        3   62.00       Anandnagar    3  \n",
       "3        1   95.00            Aundh    3  \n",
       "4        1   51.00       Aundh Road    2  \n",
       "5        1   38.00     Balaji Nagar    2  \n",
       "6        2  204.00            Baner    4  \n",
       "7        2  600.00       Baner road    4  \n",
       "8        1   63.25  Bhandarkar Road    3  \n",
       "9        2  370.00     Bhavani Peth    6  "
      ],
      "text/html": [
       "<div>\n",
       "<style scoped>\n",
       "    .dataframe tbody tr th:only-of-type {\n",
       "        vertical-align: middle;\n",
       "    }\n",
       "\n",
       "    .dataframe tbody tr th {\n",
       "        vertical-align: top;\n",
       "    }\n",
       "\n",
       "    .dataframe thead th {\n",
       "        text-align: right;\n",
       "    }\n",
       "</style>\n",
       "<table border=\"1\" class=\"dataframe\">\n",
       "  <thead>\n",
       "    <tr style=\"text-align: right;\">\n",
       "      <th></th>\n",
       "      <th>area_type</th>\n",
       "      <th>availability</th>\n",
       "      <th>size</th>\n",
       "      <th>society</th>\n",
       "      <th>total_sqft</th>\n",
       "      <th>bath</th>\n",
       "      <th>balcony</th>\n",
       "      <th>price</th>\n",
       "      <th>site_location</th>\n",
       "      <th>bhk</th>\n",
       "    </tr>\n",
       "  </thead>\n",
       "  <tbody>\n",
       "    <tr>\n",
       "      <th>0</th>\n",
       "      <td>Super built-up  Area</td>\n",
       "      <td>19-Dec</td>\n",
       "      <td>2 BHK</td>\n",
       "      <td>Coomee</td>\n",
       "      <td>1056</td>\n",
       "      <td>2</td>\n",
       "      <td>1</td>\n",
       "      <td>39.07</td>\n",
       "      <td>Alandi Road</td>\n",
       "      <td>2</td>\n",
       "    </tr>\n",
       "    <tr>\n",
       "      <th>1</th>\n",
       "      <td>Plot  Area</td>\n",
       "      <td>Ready To Move</td>\n",
       "      <td>4 Bedroom</td>\n",
       "      <td>Theanmp</td>\n",
       "      <td>2600</td>\n",
       "      <td>5</td>\n",
       "      <td>3</td>\n",
       "      <td>120.00</td>\n",
       "      <td>Ambegaon Budruk</td>\n",
       "      <td>4</td>\n",
       "    </tr>\n",
       "    <tr>\n",
       "      <th>2</th>\n",
       "      <td>Built-up  Area</td>\n",
       "      <td>Ready To Move</td>\n",
       "      <td>3 BHK</td>\n",
       "      <td>NaN</td>\n",
       "      <td>1440</td>\n",
       "      <td>2</td>\n",
       "      <td>3</td>\n",
       "      <td>62.00</td>\n",
       "      <td>Anandnagar</td>\n",
       "      <td>3</td>\n",
       "    </tr>\n",
       "    <tr>\n",
       "      <th>3</th>\n",
       "      <td>Super built-up  Area</td>\n",
       "      <td>Ready To Move</td>\n",
       "      <td>3 BHK</td>\n",
       "      <td>Soiewre</td>\n",
       "      <td>1521</td>\n",
       "      <td>3</td>\n",
       "      <td>1</td>\n",
       "      <td>95.00</td>\n",
       "      <td>Aundh</td>\n",
       "      <td>3</td>\n",
       "    </tr>\n",
       "    <tr>\n",
       "      <th>4</th>\n",
       "      <td>Super built-up  Area</td>\n",
       "      <td>Ready To Move</td>\n",
       "      <td>2 BHK</td>\n",
       "      <td>NaN</td>\n",
       "      <td>1200</td>\n",
       "      <td>2</td>\n",
       "      <td>1</td>\n",
       "      <td>51.00</td>\n",
       "      <td>Aundh Road</td>\n",
       "      <td>2</td>\n",
       "    </tr>\n",
       "    <tr>\n",
       "      <th>5</th>\n",
       "      <td>Super built-up  Area</td>\n",
       "      <td>Ready To Move</td>\n",
       "      <td>2 BHK</td>\n",
       "      <td>DuenaTa</td>\n",
       "      <td>1170</td>\n",
       "      <td>2</td>\n",
       "      <td>1</td>\n",
       "      <td>38.00</td>\n",
       "      <td>Balaji Nagar</td>\n",
       "      <td>2</td>\n",
       "    </tr>\n",
       "    <tr>\n",
       "      <th>6</th>\n",
       "      <td>Super built-up  Area</td>\n",
       "      <td>18-May</td>\n",
       "      <td>4 BHK</td>\n",
       "      <td>Jaades</td>\n",
       "      <td>2732</td>\n",
       "      <td>4</td>\n",
       "      <td>2</td>\n",
       "      <td>204.00</td>\n",
       "      <td>Baner</td>\n",
       "      <td>4</td>\n",
       "    </tr>\n",
       "    <tr>\n",
       "      <th>7</th>\n",
       "      <td>Super built-up  Area</td>\n",
       "      <td>Ready To Move</td>\n",
       "      <td>4 BHK</td>\n",
       "      <td>Brway G</td>\n",
       "      <td>3300</td>\n",
       "      <td>4</td>\n",
       "      <td>2</td>\n",
       "      <td>600.00</td>\n",
       "      <td>Baner road</td>\n",
       "      <td>4</td>\n",
       "    </tr>\n",
       "    <tr>\n",
       "      <th>8</th>\n",
       "      <td>Super built-up  Area</td>\n",
       "      <td>Ready To Move</td>\n",
       "      <td>3 BHK</td>\n",
       "      <td>NaN</td>\n",
       "      <td>1310</td>\n",
       "      <td>3</td>\n",
       "      <td>1</td>\n",
       "      <td>63.25</td>\n",
       "      <td>Bhandarkar Road</td>\n",
       "      <td>3</td>\n",
       "    </tr>\n",
       "    <tr>\n",
       "      <th>9</th>\n",
       "      <td>Plot  Area</td>\n",
       "      <td>Ready To Move</td>\n",
       "      <td>6 Bedroom</td>\n",
       "      <td>NaN</td>\n",
       "      <td>1020</td>\n",
       "      <td>6</td>\n",
       "      <td>2</td>\n",
       "      <td>370.00</td>\n",
       "      <td>Bhavani Peth</td>\n",
       "      <td>6</td>\n",
       "    </tr>\n",
       "  </tbody>\n",
       "</table>\n",
       "</div>"
      ]
     },
     "execution_count": 23,
     "metadata": {},
     "output_type": "execute_result"
    }
   ],
   "execution_count": 23
  },
  {
   "cell_type": "code",
   "id": "2d7b98be-3bed-46b3-a4c7-0459acad0c51",
   "metadata": {
    "ExecuteTime": {
     "end_time": "2025-02-16T10:15:55.813657Z",
     "start_time": "2025-02-16T10:15:55.800637Z"
    }
   },
   "source": [
    "# Count occurrences of range values\n",
    "range_values = data_clean[\"total_sqft\"].str.contains(\"-\", regex=False, na=False).sum()\n",
    "print(f\"\\n📊 Number of 'total_sqft' entries with range values: {range_values}\")"
   ],
   "outputs": [
    {
     "name": "stdout",
     "output_type": "stream",
     "text": [
      "\n",
      "📊 Number of 'total_sqft' entries with range values: 193\n"
     ]
    }
   ],
   "execution_count": 24
  },
  {
   "cell_type": "code",
   "id": "369e41a7-7fd5-4071-a99b-3d60f736d4b9",
   "metadata": {
    "ExecuteTime": {
     "end_time": "2025-02-16T10:15:55.835050Z",
     "start_time": "2025-02-16T10:15:55.813657Z"
    }
   },
   "source": [
    "# Identify non-numeric total_sqft values\n",
    "non_numeric_sqft = data_clean[~data_clean[\"total_sqft\"].str.replace(\" \", \"\").str.replace(\".\", \"\").str.isnumeric()]\n",
    "print(\"\\n🚨 Non-numeric values in 'total_sqft':\\n\", non_numeric_sqft[\"total_sqft\"].unique())\n"
   ],
   "outputs": [
    {
     "name": "stdout",
     "output_type": "stream",
     "text": [
      "\n",
      "🚨 Non-numeric values in 'total_sqft':\n",
      " ['2100 - 2850' '3010 - 3410' '2957 - 3450' '3067 - 8156' '1042 - 1105'\n",
      " '1145 - 1340' '1015 - 1540' '1520 - 1740' '34.46Sq. Meter' '1195 - 1440'\n",
      " '4125Perch' '1120 - 1145' '4400 - 6640' '3090 - 5002' '4400 - 6800'\n",
      " '1160 - 1195' '1000Sq. Meter' '4000 - 5249' '1115 - 1130' '1100Sq. Yards'\n",
      " '520 - 645' '1000 - 1285' '3606 - 5091' '650 - 665' '633 - 666'\n",
      " '5.31Acres' '30Acres' '1445 - 1455' '884 - 1116' '850 - 1093'\n",
      " '1440 - 1884' '716Sq. Meter' '547.34 - 827.31' '580 - 650' '3425 - 3435'\n",
      " '1804 - 2273' '3630 - 3800' '660 - 670' '1500Sq. Meter' '620 - 933'\n",
      " '142.61Sq. Meter' '2695 - 2940' '1574Sq. Yards' '3450 - 3472'\n",
      " '1250 - 1305' '670 - 980' '1005.03 - 1252.49' '1004 - 1204'\n",
      " '361.33Sq. Yards' '645 - 936' '2710 - 3360' '2249.81 - 4112.19'\n",
      " '3436 - 3643' '2830 - 2882' '596 - 804' '1255 - 1863' '1300 - 1405'\n",
      " '117Sq. Yards' '934 - 1437' '980 - 1030' '1564 - 1850' '1446 - 1506'\n",
      " '1070 - 1315' '3040Sq. Meter' '500Sq. Yards' '2806 - 3019' '613 - 648'\n",
      " '1430 - 1630' '704 - 730' '1482 - 1846' '2805 - 3565' '3293 - 5314'\n",
      " '1210 - 1477' '3369 - 3464' '1125 - 1500' '167Sq. Meter' '1076 - 1199'\n",
      " '381 - 535' '2215 - 2475' '524 - 894' '540 - 670' '315Sq. Yards'\n",
      " '1650 - 2538' '2725 - 3250' '1974 - 2171' '888 - 1290' '1360 - 1890'\n",
      " '2466 - 2856' '660 - 700' '385 - 440' '770 - 841' '3Cents' '1310 - 1615'\n",
      " '1782 - 2000' '188.89Sq. Yards' '1469 - 1766' '204Sq. Meter'\n",
      " '1255 - 1350' '870 - 1080' '45Sq. Yards' '133.3Sq. Yards' '2580 - 2591'\n",
      " '2563 - 2733' '605 - 624' '4260 - 4408' '1349 - 3324' '78.03Sq. Meter'\n",
      " '3300 - 3335' '1180 - 1630' '1365 - 1700' '3500 - 3600' '122Sq. Yards'\n",
      " '84.53Sq. Meter' '2.09Acres' '1482 - 1684' '981 - 1249' '1100 - 1225'\n",
      " '1565 - 1595' '24Guntha' '1270 - 1275' '840 - 1010' '697Sq. Meter'\n",
      " '655 - 742' '1408 - 1455' '4050 - 4075' '942 - 1117' '1750 - 2640'\n",
      " '1390 - 1600' '598 - 958' '1500Cents' '132Sq. Yards' '1010 - 1300'\n",
      " '2Acres' '3103 - 3890' '1450 - 1950' '1100Sq. Meter' '15Acres'\n",
      " '1450 - 1595' '763 - 805' '3307 - 3464' '1.26Acres' '620 - 934'\n",
      " '2462 - 2467' '540 - 740' '1618 - 1929' '3508 - 4201' '4900 - 4940'\n",
      " '1610 - 1880' '755 - 770' '664 - 722' '151.11Sq. Yards' '700 - 900'\n",
      " '596 - 861' '1925 - 2680' '615 - 985' '540 - 565' '750 - 800'\n",
      " '1660 - 1805' '1410 - 1710' '1079 - 1183' '2800 - 2870' '1230 - 1290'\n",
      " '943 - 1220' '2041 - 2090' '527 - 639' '1Grounds' '1160 - 1315'\n",
      " '706 - 716' '2940Sq. Yards' '1791 - 4000' '45.06Sq. Meter' '799 - 803'\n",
      " '2470 - 2790' '783 - 943' '4500 - 5540' '1255 - 1375' '610 - 615'\n",
      " '854 - 960' '2650 - 2990' '1.25Acres' '86.72Sq. Meter' '1230 - 1490'\n",
      " '660 - 780' '1150 - 1194' '684 - 810' '1510 - 1670' '1550 - 1590'\n",
      " '1235 - 1410' '3484 - 3550' '38Guntha' '929 - 1078' '2150 - 2225'\n",
      " '1520 - 1759' '629 - 1026' '1215 - 1495' '6Acres' '1140 - 1250'\n",
      " '2400 - 2600' '1052 - 1322' '5666 - 5669' '712 - 938' '1783 - 1878'\n",
      " '120Sq. Yards' '24Sq. Meter' '2528 - 3188' '650 - 760' '1400 - 1421'\n",
      " '4000 - 4450' '142.84Sq. Meter' '300Sq. Yards' '2204 - 2362'\n",
      " '1437 - 1629' '850 - 1060' '1200 - 1470' '1020 - 1130' '1133 - 1384']\n"
     ]
    }
   ],
   "execution_count": 25
  },
  {
   "cell_type": "code",
   "id": "57d7e979-012c-40b8-bb3f-b86814a4829a",
   "metadata": {
    "ExecuteTime": {
     "end_time": "2025-02-16T10:15:55.897003Z",
     "start_time": "2025-02-16T10:15:55.835050Z"
    }
   },
   "source": [
    "import re\n",
    "\n",
    "def convert_sqft(value):\n",
    "    \"\"\"\n",
    "    Converts total_sqft column values to numeric format (in square feet).\n",
    "    Handles:\n",
    "    - Ranges (e.g., \"1200 - 1500\" → average of both values)\n",
    "    - Non-numeric area units (e.g., \"1 Acre\" → converted to square feet)\n",
    "    - Other cases default to NaN if conversion fails.\n",
    "    \"\"\"\n",
    "    if isinstance(value, str):\n",
    "        value = value.strip()\n",
    "        \n",
    "        # Case 1: If it's a range (e.g., \"1200 - 1500\"), take the average\n",
    "        if \"-\" in value:\n",
    "            nums = value.split(\"-\")\n",
    "            return (float(nums[0]) + float(nums[1])) / 2  # Average of range\n",
    "\n",
    "        # Case 2: Convert areas with units (e.g., \"34.46 Sq. Meter\")\n",
    "        match = re.match(r\"([\\d.]+)\\s*(\\w+)\", value)\n",
    "        if match:\n",
    "            num, unit = float(match.group(1)), match.group(2).lower()\n",
    "            \n",
    "            conversion_factors = {\n",
    "                \"sq. meter\": 10.764,  # 1 Sq. Meter = 10.764 Sq. Feet\n",
    "                \"sq. yards\": 9,  # 1 Sq. Yard = 9 Sq. Feet\n",
    "                \"acres\": 43560,  # 1 Acre = 43,560 Sq. Feet\n",
    "                \"guntha\": 1089,  # 1 Guntha = 1089 Sq. Feet\n",
    "                \"grounds\": 2400,  # 1 Ground = 2400 Sq. Feet\n",
    "                \"cents\": 435.6,  # 1 Cent = 435.6 Sq. Feet\n",
    "                \"perch\": 272.25,  # 1 Perch = 272.25 Sq. Feet\n",
    "                \"sq. kilometers\": 10763910.4,  # 1 Sq. Km = 10,763,910.4 Sq. Feet\n",
    "            }\n",
    "\n",
    "            # Convert known units to square feet\n",
    "            for key in conversion_factors:\n",
    "                if key in unit:\n",
    "                    return num * conversion_factors[key]\n",
    "\n",
    "        # Case 3: If it's already a number, convert to float\n",
    "        try:\n",
    "            return float(value)\n",
    "        except ValueError:\n",
    "            return np.nan  # Keep NaN if conversion fails\n",
    "\n",
    "    return np.nan  # If it's not a string or number, return NaN\n",
    "\n",
    "# Apply conversion\n",
    "data_clean[\"total_sqft\"] = data_clean[\"total_sqft\"].apply(convert_sqft)\n",
    "print(f\"\\n✅ Missing values after conversion: {data_clean['total_sqft'].isnull().sum()}\")\n",
    "print(f\"📊 Converted 'total_sqft' column:\\n{data_clean['total_sqft'].head(10)}\")\n",
    "\n",
    "          "
   ],
   "outputs": [
    {
     "name": "stdout",
     "output_type": "stream",
     "text": [
      "\n",
      "✅ Missing values after conversion: 32\n",
      "📊 Converted 'total_sqft' column:\n",
      "0    1056.0\n",
      "1    2600.0\n",
      "2    1440.0\n",
      "3    1521.0\n",
      "4    1200.0\n",
      "5    1170.0\n",
      "6    2732.0\n",
      "7    3300.0\n",
      "8    1310.0\n",
      "9    1020.0\n",
      "Name: total_sqft, dtype: float64\n"
     ]
    }
   ],
   "execution_count": 26
  },
  {
   "cell_type": "code",
   "id": "fda0c6a6-2927-4759-81ce-965e04294173",
   "metadata": {
    "ExecuteTime": {
     "end_time": "2025-02-16T10:15:55.905638Z",
     "start_time": "2025-02-16T10:15:55.897003Z"
    }
   },
   "source": [
    "# Handle Missing total_sqft Values\n",
    "data_clean[\"total_sqft\"].fillna(data_clean[\"total_sqft\"].median(), inplace=True)\n",
    "\n"
   ],
   "outputs": [
    {
     "name": "stderr",
     "output_type": "stream",
     "text": [
      "C:\\Users\\Lenovo\\AppData\\Local\\Temp\\ipykernel_4076\\2380208700.py:2: FutureWarning: A value is trying to be set on a copy of a DataFrame or Series through chained assignment using an inplace method.\n",
      "The behavior will change in pandas 3.0. This inplace method will never work because the intermediate object on which we are setting values always behaves as a copy.\n",
      "\n",
      "For example, when doing 'df[col].method(value, inplace=True)', try using 'df.method({col: value}, inplace=True)' or df[col] = df[col].method(value) instead, to perform the operation inplace on the original object.\n",
      "\n",
      "\n",
      "  data_clean[\"total_sqft\"].fillna(data_clean[\"total_sqft\"].median(), inplace=True)\n"
     ]
    }
   ],
   "execution_count": 27
  },
  {
   "cell_type": "code",
   "id": "4ce437a0-e1dc-456a-a2ba-c745cc95f482",
   "metadata": {
    "ExecuteTime": {
     "end_time": "2025-02-16T10:15:55.920017Z",
     "start_time": "2025-02-16T10:15:55.905638Z"
    }
   },
   "source": [
    "# Count missing values\n",
    "data_clean.isnull().sum()\n"
   ],
   "outputs": [
    {
     "data": {
      "text/plain": [
       "area_type           0\n",
       "availability        0\n",
       "size                0\n",
       "society          5499\n",
       "total_sqft          0\n",
       "bath                0\n",
       "balcony             0\n",
       "price               0\n",
       "site_location       1\n",
       "bhk                 0\n",
       "dtype: int64"
      ]
     },
     "execution_count": 28,
     "metadata": {},
     "output_type": "execute_result"
    }
   ],
   "execution_count": 28
  },
  {
   "cell_type": "code",
   "id": "46f3a4ce-c6da-46a0-9400-d443f0f98372",
   "metadata": {
    "ExecuteTime": {
     "end_time": "2025-02-16T10:15:55.928853Z",
     "start_time": "2025-02-16T10:15:55.920017Z"
    }
   },
   "source": [
    "# Dropping unnecessary columns\n",
    "data_clean.drop([\"society\", \"size\"], inplace = True, axis=1)"
   ],
   "outputs": [],
   "execution_count": 29
  },
  {
   "cell_type": "code",
   "id": "00d447a8-037b-4397-80c7-a5512c09b958",
   "metadata": {
    "ExecuteTime": {
     "end_time": "2025-02-16T10:15:55.949196Z",
     "start_time": "2025-02-16T10:15:55.928853Z"
    }
   },
   "source": [
    "# Removing the rows in site_location column that has none values\n",
    "data_clean = data_clean.dropna()\n",
    "data_clean.isna().sum()"
   ],
   "outputs": [
    {
     "data": {
      "text/plain": [
       "area_type        0\n",
       "availability     0\n",
       "total_sqft       0\n",
       "bath             0\n",
       "balcony          0\n",
       "price            0\n",
       "site_location    0\n",
       "bhk              0\n",
       "dtype: int64"
      ]
     },
     "execution_count": 30,
     "metadata": {},
     "output_type": "execute_result"
    }
   ],
   "execution_count": 30
  },
  {
   "cell_type": "code",
   "id": "98901e78-947e-4a71-baee-1790b02f2b2c",
   "metadata": {
    "ExecuteTime": {
     "end_time": "2025-02-16T10:15:55.959104Z",
     "start_time": "2025-02-16T10:15:55.949196Z"
    }
   },
   "source": [
    "data_clean.dtypes"
   ],
   "outputs": [
    {
     "data": {
      "text/plain": [
       "area_type         object\n",
       "availability      object\n",
       "total_sqft       float64\n",
       "bath               int32\n",
       "balcony            int32\n",
       "price            float64\n",
       "site_location     object\n",
       "bhk                int64\n",
       "dtype: object"
      ]
     },
     "execution_count": 31,
     "metadata": {},
     "output_type": "execute_result"
    }
   ],
   "execution_count": 31
  },
  {
   "cell_type": "code",
   "id": "dfbab513-6c3d-41ca-a9e1-574cfc34eac9",
   "metadata": {
    "ExecuteTime": {
     "end_time": "2025-02-16T10:15:55.969641Z",
     "start_time": "2025-02-16T10:15:55.959104Z"
    }
   },
   "source": [
    "# Get the number of rows and columns\n",
    "rows, cols = data_clean.shape\n",
    "print(f\"Dataset contains {rows} rows and {cols} columns.\")"
   ],
   "outputs": [
    {
     "name": "stdout",
     "output_type": "stream",
     "text": [
      "Dataset contains 13303 rows and 8 columns.\n"
     ]
    }
   ],
   "execution_count": 32
  },
  {
   "cell_type": "code",
   "id": "a3cecbc6-6546-4a92-ae22-a1f3982fdff5",
   "metadata": {
    "ExecuteTime": {
     "end_time": "2025-02-16T10:15:55.984021Z",
     "start_time": "2025-02-16T10:15:55.969641Z"
    }
   },
   "source": [
    "# Checking the unique values in 'availability column'\n",
    "data_clean.groupby('availability')['availability'].agg('count').sort_values(ascending=False)"
   ],
   "outputs": [
    {
     "data": {
      "text/plain": [
       "availability\n",
       "Ready To Move    10580\n",
       "18-Dec             307\n",
       "18-May             295\n",
       "18-Apr             271\n",
       "18-Aug             200\n",
       "                 ...  \n",
       "16-Oct               1\n",
       "16-Nov               1\n",
       "16-Jul               1\n",
       "16-Jan               1\n",
       "14-Jul               1\n",
       "Name: availability, Length: 80, dtype: int64"
      ]
     },
     "execution_count": 33,
     "metadata": {},
     "output_type": "execute_result"
    }
   ],
   "execution_count": 33
  },
  {
   "cell_type": "code",
   "id": "608dfe2c-0923-43d6-939d-68b1411f8a64",
   "metadata": {
    "ExecuteTime": {
     "end_time": "2025-02-16T10:15:56.033494Z",
     "start_time": "2025-02-16T10:15:55.985045Z"
    }
   },
   "source": [
    "# Labelling the dates into Not Ready\n",
    "dates = data_clean.groupby('availability')['availability'].agg('count').sort_values(ascending=False)\n",
    "dates_not_ready = dates[dates<10000]\n",
    "data_clean.availability = data_clean.availability.apply(lambda x: 'Not Ready' if x in dates_not_ready else x)\n",
    "len(data_clean.availability.unique())"
   ],
   "outputs": [
    {
     "data": {
      "text/plain": [
       "2"
      ]
     },
     "execution_count": 34,
     "metadata": {},
     "output_type": "execute_result"
    }
   ],
   "execution_count": 34
  },
  {
   "cell_type": "code",
   "id": "df5fb4fa-d51e-418e-a7aa-84eb09a45b0a",
   "metadata": {
    "ExecuteTime": {
     "end_time": "2025-02-16T10:15:56.046254Z",
     "start_time": "2025-02-16T10:15:56.033494Z"
    }
   },
   "source": [
    "# Checking the unique values in 'area_type' column\n",
    "data_clean.groupby('area_type')['area_type'].agg('count').sort_values(ascending=False)\n",
    "# Since the column has only few unique values, we don't perform any operation"
   ],
   "outputs": [
    {
     "data": {
      "text/plain": [
       "area_type\n",
       "Super built-up  Area    8789\n",
       "Built-up  Area          2418\n",
       "Plot  Area              2009\n",
       "Carpet  Area              87\n",
       "Name: area_type, dtype: int64"
      ]
     },
     "execution_count": 35,
     "metadata": {},
     "output_type": "execute_result"
    }
   ],
   "execution_count": 35
  },
  {
   "cell_type": "code",
   "id": "7c32a514-7a5c-4b2a-baec-e84a5439774c",
   "metadata": {
    "ExecuteTime": {
     "end_time": "2025-02-16T10:15:56.071378Z",
     "start_time": "2025-02-16T10:15:56.046254Z"
    }
   },
   "source": [
    "# Adding a new column of price_per_sqft\n",
    "data_fe = data_clean.copy()\n",
    "\n",
    "# Ensure there are no division by zero errors\n",
    "data_fe['total_sqft'] = data_fe['total_sqft'].replace(0, float('nan'))\n",
    "\n",
    "# Calculate and round price_per_sqft to two decimal places\n",
    "data_fe['price_per_sqft'] = ((data_fe['price'] * 100000) / data_fe['total_sqft']).round(2)\n",
    "\n",
    "# Adding a new column of sqft_per_bhk\n",
    "data_fe[\"sqft_per_bhk\"] = data_fe[\"total_sqft\"] / data_fe[\"bhk\"]\n",
    "\n",
    "data_fe.head()"
   ],
   "outputs": [
    {
     "data": {
      "text/plain": [
       "              area_type   availability  total_sqft  bath  balcony   price  \\\n",
       "0  Super built-up  Area      Not Ready      1056.0     2        1   39.07   \n",
       "1            Plot  Area  Ready To Move      2600.0     5        3  120.00   \n",
       "2        Built-up  Area  Ready To Move      1440.0     2        3   62.00   \n",
       "3  Super built-up  Area  Ready To Move      1521.0     3        1   95.00   \n",
       "4  Super built-up  Area  Ready To Move      1200.0     2        1   51.00   \n",
       "\n",
       "     site_location  bhk  price_per_sqft  sqft_per_bhk  \n",
       "0      Alandi Road    2         3699.81         528.0  \n",
       "1  Ambegaon Budruk    4         4615.38         650.0  \n",
       "2       Anandnagar    3         4305.56         480.0  \n",
       "3            Aundh    3         6245.89         507.0  \n",
       "4       Aundh Road    2         4250.00         600.0  "
      ],
      "text/html": [
       "<div>\n",
       "<style scoped>\n",
       "    .dataframe tbody tr th:only-of-type {\n",
       "        vertical-align: middle;\n",
       "    }\n",
       "\n",
       "    .dataframe tbody tr th {\n",
       "        vertical-align: top;\n",
       "    }\n",
       "\n",
       "    .dataframe thead th {\n",
       "        text-align: right;\n",
       "    }\n",
       "</style>\n",
       "<table border=\"1\" class=\"dataframe\">\n",
       "  <thead>\n",
       "    <tr style=\"text-align: right;\">\n",
       "      <th></th>\n",
       "      <th>area_type</th>\n",
       "      <th>availability</th>\n",
       "      <th>total_sqft</th>\n",
       "      <th>bath</th>\n",
       "      <th>balcony</th>\n",
       "      <th>price</th>\n",
       "      <th>site_location</th>\n",
       "      <th>bhk</th>\n",
       "      <th>price_per_sqft</th>\n",
       "      <th>sqft_per_bhk</th>\n",
       "    </tr>\n",
       "  </thead>\n",
       "  <tbody>\n",
       "    <tr>\n",
       "      <th>0</th>\n",
       "      <td>Super built-up  Area</td>\n",
       "      <td>Not Ready</td>\n",
       "      <td>1056.0</td>\n",
       "      <td>2</td>\n",
       "      <td>1</td>\n",
       "      <td>39.07</td>\n",
       "      <td>Alandi Road</td>\n",
       "      <td>2</td>\n",
       "      <td>3699.81</td>\n",
       "      <td>528.0</td>\n",
       "    </tr>\n",
       "    <tr>\n",
       "      <th>1</th>\n",
       "      <td>Plot  Area</td>\n",
       "      <td>Ready To Move</td>\n",
       "      <td>2600.0</td>\n",
       "      <td>5</td>\n",
       "      <td>3</td>\n",
       "      <td>120.00</td>\n",
       "      <td>Ambegaon Budruk</td>\n",
       "      <td>4</td>\n",
       "      <td>4615.38</td>\n",
       "      <td>650.0</td>\n",
       "    </tr>\n",
       "    <tr>\n",
       "      <th>2</th>\n",
       "      <td>Built-up  Area</td>\n",
       "      <td>Ready To Move</td>\n",
       "      <td>1440.0</td>\n",
       "      <td>2</td>\n",
       "      <td>3</td>\n",
       "      <td>62.00</td>\n",
       "      <td>Anandnagar</td>\n",
       "      <td>3</td>\n",
       "      <td>4305.56</td>\n",
       "      <td>480.0</td>\n",
       "    </tr>\n",
       "    <tr>\n",
       "      <th>3</th>\n",
       "      <td>Super built-up  Area</td>\n",
       "      <td>Ready To Move</td>\n",
       "      <td>1521.0</td>\n",
       "      <td>3</td>\n",
       "      <td>1</td>\n",
       "      <td>95.00</td>\n",
       "      <td>Aundh</td>\n",
       "      <td>3</td>\n",
       "      <td>6245.89</td>\n",
       "      <td>507.0</td>\n",
       "    </tr>\n",
       "    <tr>\n",
       "      <th>4</th>\n",
       "      <td>Super built-up  Area</td>\n",
       "      <td>Ready To Move</td>\n",
       "      <td>1200.0</td>\n",
       "      <td>2</td>\n",
       "      <td>1</td>\n",
       "      <td>51.00</td>\n",
       "      <td>Aundh Road</td>\n",
       "      <td>2</td>\n",
       "      <td>4250.00</td>\n",
       "      <td>600.0</td>\n",
       "    </tr>\n",
       "  </tbody>\n",
       "</table>\n",
       "</div>"
      ]
     },
     "execution_count": 36,
     "metadata": {},
     "output_type": "execute_result"
    }
   ],
   "execution_count": 36
  },
  {
   "cell_type": "code",
   "id": "f6277532-bc15-45af-b5d5-6958eb1898fe",
   "metadata": {
    "ExecuteTime": {
     "end_time": "2025-02-16T10:15:56.081648Z",
     "start_time": "2025-02-16T10:15:56.071378Z"
    }
   },
   "source": [
    "# Count rows where sqft_per_bhk is less than 300 or greater than 1200\n",
    "count_outliers = data_fe[(data_fe[\"sqft_per_bhk\"] < 300) | (data_fe[\"sqft_per_bhk\"] > 1200)].shape[0]\n",
    "\n",
    "print(f\"Number of rows with sqft_per_bhk < 300 or > 1200: {count_outliers}\")"
   ],
   "outputs": [
    {
     "name": "stdout",
     "output_type": "stream",
     "text": [
      "Number of rows with sqft_per_bhk < 300 or > 1200: 951\n"
     ]
    }
   ],
   "execution_count": 37
  },
  {
   "cell_type": "code",
   "id": "927bbb7a-3746-405d-8e27-65c088448c57",
   "metadata": {
    "ExecuteTime": {
     "end_time": "2025-02-16T10:15:56.627381Z",
     "start_time": "2025-02-16T10:15:56.085185Z"
    }
   },
   "source": [
    "# Create a new column to categorize the rows\n",
    "data_fe['sqft_per_bhk_category'] = data_fe['sqft_per_bhk'].apply(\n",
    "    lambda x: 'Outlier' if x < 300 or x > 1200 else 'Normal'\n",
    ")\n",
    "\n",
    "# Set the figure size\n",
    "plt.figure(figsize=(10, 6))\n",
    "\n",
    "# Plot the histogram\n",
    "sns.histplot(data=data_fe, x='sqft_per_bhk', hue='sqft_per_bhk_category', multiple='stack', palette='coolwarm', bins=50)\n",
    "\n",
    "# Add titles and labels\n",
    "plt.title('Distribution of sqft_per_bhk with Outliers Highlighted', fontsize=14)\n",
    "plt.xlabel('Square Feet per BHK', fontsize=12)\n",
    "plt.ylabel('Frequency', fontsize=12)\n",
    "\n",
    "# Show the plot\n",
    "plt.show()"
   ],
   "outputs": [
    {
     "data": {
      "text/plain": [
       "<Figure size 1000x600 with 1 Axes>"
      ],
      "image/png": "[encoded data removed]"
     },
     "metadata": {},
     "output_type": "display_data"
    }
   ],
   "execution_count": 38
  },
  {
   "cell_type": "code",
   "id": "a6356115-e98a-45f4-88b4-1804cd3aa6c3",
   "metadata": {
    "ExecuteTime": {
     "end_time": "2025-02-16T10:15:56.638378Z",
     "start_time": "2025-02-16T10:15:56.627381Z"
    }
   },
   "source": [
    "# Filter the DataFrame to include only rows where 'sqft_per_bhk' is between 300 and 1200\n",
    "data_fe = data_fe[(data_fe['sqft_per_bhk'] >= 300) & (data_fe['sqft_per_bhk'] <= 1200)]"
   ],
   "outputs": [],
   "execution_count": 39
  },
  {
   "cell_type": "code",
   "id": "1ab9a213-8999-4b65-85c8-8698b63309ef",
   "metadata": {
    "ExecuteTime": {
     "end_time": "2025-02-16T10:15:56.876226Z",
     "start_time": "2025-02-16T10:15:56.640392Z"
    }
   },
   "source": [
    "# Create a boxplot for the 'price' column\n",
    "sns.boxplot(x=data_fe['price'])\n",
    "plt.show()"
   ],
   "outputs": [
    {
     "data": {
      "text/plain": [
       "<Figure size 1000x600 with 1 Axes>"
      ],
      "image/png": "[encoded data removed]"
     },
     "metadata": {},
     "output_type": "display_data"
    }
   ],
   "execution_count": 40
  },
  {
   "cell_type": "code",
   "id": "29dafe1e-35df-47dd-ac11-8424cb752cfb",
   "metadata": {
    "ExecuteTime": {
     "end_time": "2025-02-16T10:15:56.926078Z",
     "start_time": "2025-02-16T10:15:56.876226Z"
    }
   },
   "source": [
    "data_fe.describe()"
   ],
   "outputs": [
    {
     "data": {
      "text/plain": [
       "         total_sqft          bath       balcony         price           bhk  \\\n",
       "count  12352.000000  12352.000000  12352.000000  12352.000000  12352.000000   \n",
       "mean    1514.485608      2.548332      1.599012    102.919566      2.640787   \n",
       "std      728.628791      1.058225      0.796260    111.659375      0.964648   \n",
       "min      300.000000      1.000000      0.000000      9.000000      1.000000   \n",
       "25%     1113.817500      2.000000      1.000000     49.000000      2.000000   \n",
       "50%     1295.000000      2.000000      2.000000     69.275000      3.000000   \n",
       "75%     1683.000000      3.000000      2.000000    112.000000      3.000000   \n",
       "max    12000.000000     16.000000      3.000000   3600.000000     16.000000   \n",
       "\n",
       "       price_per_sqft  sqft_per_bhk  \n",
       "count    12352.000000  12352.000000  \n",
       "mean      6241.767830    573.920413  \n",
       "std       4051.503115    142.328151  \n",
       "min        500.000000    300.000000  \n",
       "25%       4204.145000    490.000000  \n",
       "50%       5277.915000    560.000000  \n",
       "75%       6862.517500    626.500000  \n",
       "max     176470.590000   1200.000000  "
      ],
      "text/html": [
       "<div>\n",
       "<style scoped>\n",
       "    .dataframe tbody tr th:only-of-type {\n",
       "        vertical-align: middle;\n",
       "    }\n",
       "\n",
       "    .dataframe tbody tr th {\n",
       "        vertical-align: top;\n",
       "    }\n",
       "\n",
       "    .dataframe thead th {\n",
       "        text-align: right;\n",
       "    }\n",
       "</style>\n",
       "<table border=\"1\" class=\"dataframe\">\n",
       "  <thead>\n",
       "    <tr style=\"text-align: right;\">\n",
       "      <th></th>\n",
       "      <th>total_sqft</th>\n",
       "      <th>bath</th>\n",
       "      <th>balcony</th>\n",
       "      <th>price</th>\n",
       "      <th>bhk</th>\n",
       "      <th>price_per_sqft</th>\n",
       "      <th>sqft_per_bhk</th>\n",
       "    </tr>\n",
       "  </thead>\n",
       "  <tbody>\n",
       "    <tr>\n",
       "      <th>count</th>\n",
       "      <td>12352.000000</td>\n",
       "      <td>12352.000000</td>\n",
       "      <td>12352.000000</td>\n",
       "      <td>12352.000000</td>\n",
       "      <td>12352.000000</td>\n",
       "      <td>12352.000000</td>\n",
       "      <td>12352.000000</td>\n",
       "    </tr>\n",
       "    <tr>\n",
       "      <th>mean</th>\n",
       "      <td>1514.485608</td>\n",
       "      <td>2.548332</td>\n",
       "      <td>1.599012</td>\n",
       "      <td>102.919566</td>\n",
       "      <td>2.640787</td>\n",
       "      <td>6241.767830</td>\n",
       "      <td>573.920413</td>\n",
       "    </tr>\n",
       "    <tr>\n",
       "      <th>std</th>\n",
       "      <td>728.628791</td>\n",
       "      <td>1.058225</td>\n",
       "      <td>0.796260</td>\n",
       "      <td>111.659375</td>\n",
       "      <td>0.964648</td>\n",
       "      <td>4051.503115</td>\n",
       "      <td>142.328151</td>\n",
       "    </tr>\n",
       "    <tr>\n",
       "      <th>min</th>\n",
       "      <td>300.000000</td>\n",
       "      <td>1.000000</td>\n",
       "      <td>0.000000</td>\n",
       "      <td>9.000000</td>\n",
       "      <td>1.000000</td>\n",
       "      <td>500.000000</td>\n",
       "      <td>300.000000</td>\n",
       "    </tr>\n",
       "    <tr>\n",
       "      <th>25%</th>\n",
       "      <td>1113.817500</td>\n",
       "      <td>2.000000</td>\n",
       "      <td>1.000000</td>\n",
       "      <td>49.000000</td>\n",
       "      <td>2.000000</td>\n",
       "      <td>4204.145000</td>\n",
       "      <td>490.000000</td>\n",
       "    </tr>\n",
       "    <tr>\n",
       "      <th>50%</th>\n",
       "      <td>1295.000000</td>\n",
       "      <td>2.000000</td>\n",
       "      <td>2.000000</td>\n",
       "      <td>69.275000</td>\n",
       "      <td>3.000000</td>\n",
       "      <td>5277.915000</td>\n",
       "      <td>560.000000</td>\n",
       "    </tr>\n",
       "    <tr>\n",
       "      <th>75%</th>\n",
       "      <td>1683.000000</td>\n",
       "      <td>3.000000</td>\n",
       "      <td>2.000000</td>\n",
       "      <td>112.000000</td>\n",
       "      <td>3.000000</td>\n",
       "      <td>6862.517500</td>\n",
       "      <td>626.500000</td>\n",
       "    </tr>\n",
       "    <tr>\n",
       "      <th>max</th>\n",
       "      <td>12000.000000</td>\n",
       "      <td>16.000000</td>\n",
       "      <td>3.000000</td>\n",
       "      <td>3600.000000</td>\n",
       "      <td>16.000000</td>\n",
       "      <td>176470.590000</td>\n",
       "      <td>1200.000000</td>\n",
       "    </tr>\n",
       "  </tbody>\n",
       "</table>\n",
       "</div>"
      ]
     },
     "execution_count": 41,
     "metadata": {},
     "output_type": "execute_result"
    }
   ],
   "execution_count": 41
  },
  {
   "cell_type": "code",
   "id": "1c34fe74-66d5-406a-a31d-b8f29fa35296",
   "metadata": {
    "ExecuteTime": {
     "end_time": "2025-02-16T10:15:57.139304Z",
     "start_time": "2025-02-16T10:15:56.926078Z"
    }
   },
   "source": [
    "# Minimum price per sqft is 500 whereas maximum price per sqft is 176470, this shows a wide variation in property prices. \n",
    "# We should remove outliers per location using mean and standard deviation\n",
    "def remove_outliers(data):\n",
    "    data_out = pd.DataFrame()\n",
    "    for location, subdf in data.groupby('site_location'):\n",
    "        mean = np.mean(subdf['price_per_sqft'])\n",
    "        std_dev = np.std(subdf['price_per_sqft'])\n",
    "        filtered_data = subdf[(subdf['price_per_sqft'] > (mean - std_dev)) & (subdf['price_per_sqft'] <= (mean + std_dev))]\n",
    "        data_out = pd.concat([data_out, filtered_data], ignore_index=True)\n",
    "    return data_out\n",
    "\n",
    "data_ro= remove_outliers(data_fe)\n",
    "print(data_ro.shape)"
   ],
   "outputs": [
    {
     "name": "stdout",
     "output_type": "stream",
     "text": [
      "(10747, 11)\n"
     ]
    }
   ],
   "execution_count": 42
  },
  {
   "cell_type": "code",
   "id": "6337e7a4-e18b-41b7-a333-3c84b46c75bb",
   "metadata": {
    "ExecuteTime": {
     "end_time": "2025-02-16T10:15:57.424916Z",
     "start_time": "2025-02-16T10:15:57.139304Z"
    }
   },
   "source": [
    "def plot(data, location):\n",
    "    # Filter data for the specified location and property types\n",
    "    bhk2 = data[(data['site_location'] == location) & (data['bhk'] == 2)]\n",
    "    bhk3 = data[(data['site_location'] == location) & (data['bhk'] == 3)]\n",
    "    \n",
    "    # Set the figure\n",
    "    plt.figure(figsize=(12, 7))\n",
    "    plt.scatter(bhk2['total_sqft'], bhk2['price'], marker='.', color='purple', label='2 BHK', s=50)\n",
    "    plt.scatter(bhk3['total_sqft'], bhk3['price'], marker='*', color='red', label='3 BHK', s=50)\n",
    "    plt.xlabel(\"Total Square Feet Area\")\n",
    "    plt.ylabel(\"Price\")\n",
    "    plt.title(f\"Price vs. Area for 2 BHK and 3 BHK Properties in {location}\")\n",
    "    plt.legend()\n",
    "    plt.show()\n",
    "\n",
    "plot(data_ro, \"Mahatma Gandhi Road\")"
   ],
   "outputs": [
    {
     "data": {
      "text/plain": [
       "<Figure size 1200x700 with 1 Axes>"
      ],
      "image/png": "[encoded data removed]"
     },
     "metadata": {},
     "output_type": "display_data"
    }
   ],
   "execution_count": 43
  },
  {
   "cell_type": "code",
   "id": "eeab86be-bade-4791-8d59-7a4278416a8d",
   "metadata": {
    "ExecuteTime": {
     "end_time": "2025-02-16T10:15:57.953535Z",
     "start_time": "2025-02-16T10:15:57.424916Z"
    }
   },
   "source": [
    "# Now we can remove those 2 BHK apartments whose price_per_sqft is less than mean price_per_sqft of 1 BHK apartment\n",
    "def remove_bhk_outliers(data_ro):\n",
    "    exclude_indices = []\n",
    "    for location, location_df in data_ro.groupby('site_location'):\n",
    "        bhk_stats = {}\n",
    "        for bhk, bhk_df in location_df.groupby('bhk'):\n",
    "            bhk_stats[bhk] = {\n",
    "                'mean': np.mean(bhk_df.price_per_sqft),\n",
    "                'std': np.std(bhk_df.price_per_sqft),\n",
    "                'count': bhk_df.shape[0]\n",
    "            }\n",
    "        for bhk, bhk_df in location_df.groupby('bhk'):\n",
    "            stats = bhk_stats.get(bhk-1)\n",
    "            if stats and stats['count'] > 5:\n",
    "                exclude_indices.extend(bhk_df[bhk_df.price_per_sqft < stats['mean']].index)\n",
    "    return data_ro.drop(exclude_indices, axis='index')\n",
    "data_ro1 = remove_bhk_outliers(data_ro)\n",
    "data_ro1.shape"
   ],
   "outputs": [
    {
     "data": {
      "text/plain": [
       "(7327, 11)"
      ]
     },
     "execution_count": 44,
     "metadata": {},
     "output_type": "execute_result"
    }
   ],
   "execution_count": 44
  },
  {
   "cell_type": "code",
   "id": "7b7f59eb-651a-4372-b925-86ca8ede0d45",
   "metadata": {
    "ExecuteTime": {
     "end_time": "2025-02-16T10:15:58.225784Z",
     "start_time": "2025-02-16T10:15:57.953535Z"
    }
   },
   "source": [
    "plot(data_ro1,\"Mahatma Gandhi Road\")"
   ],
   "outputs": [
    {
     "data": {
      "text/plain": [
       "<Figure size 1200x700 with 1 Axes>"
      ],
      "image/png": "[encoded data removed]"
     },
     "metadata": {},
     "output_type": "display_data"
    }
   ],
   "execution_count": 45
  },
  {
   "cell_type": "code",
   "id": "45ee23ab-5e12-47e7-bddd-dfb3ac7ef904",
   "metadata": {
    "ExecuteTime": {
     "end_time": "2025-02-16T10:15:58.566910Z",
     "start_time": "2025-02-16T10:15:58.227808Z"
    }
   },
   "source": [
    "# Creating the KDE plot for 'bath'\n",
    "sns.kdeplot(data_ro1['bath'], shade=True)\n",
    "plt.xlabel(\"Number of Bathrooms\")\n",
    "plt.ylabel(\"Density\")\n",
    "plt.title(\"KDE Plot of Number of Bathrooms\")\n",
    "plt.show()\n"
   ],
   "outputs": [
    {
     "name": "stderr",
     "output_type": "stream",
     "text": [
      "C:\\Users\\Lenovo\\AppData\\Local\\Temp\\ipykernel_4076\\1246054267.py:2: FutureWarning: \n",
      "\n",
      "`shade` is now deprecated in favor of `fill`; setting `fill=True`.\n",
      "This will become an error in seaborn v0.14.0; please update your code.\n",
      "\n",
      "  sns.kdeplot(data_ro1['bath'], shade=True)\n"
     ]
    },
    {
     "data": {
      "text/plain": [
       "<Figure size 1000x600 with 1 Axes>"
      ],
      "image/png": "[encoded data removed]"
     },
     "metadata": {},
     "output_type": "display_data"
    }
   ],
   "execution_count": 46
  },
  {
   "cell_type": "code",
   "id": "66eba4d5-eea7-41a6-81fb-54a3d79b561f",
   "metadata": {
    "ExecuteTime": {
     "end_time": "2025-02-16T10:15:58.777006Z",
     "start_time": "2025-02-16T10:15:58.566910Z"
    }
   },
   "source": [
    "# Creating a boxplot for the 'bath' variable\n",
    "sns.boxplot(y=data_ro1['bath'])\n",
    "plt.title('Distribution of Number of Bathrooms')\n",
    "plt.ylabel('Number of Bathrooms')\n",
    "plt.show()"
   ],
   "outputs": [
    {
     "data": {
      "text/plain": [
       "<Figure size 1000x600 with 1 Axes>"
      ],
      "image/png": "[encoded data removed]"
     },
     "metadata": {},
     "output_type": "display_data"
    }
   ],
   "execution_count": 47
  },
  {
   "cell_type": "code",
   "id": "1e2fb583-db1a-4404-bcd8-ff7e0ceec8b6",
   "metadata": {
    "ExecuteTime": {
     "end_time": "2025-02-16T10:15:58.801423Z",
     "start_time": "2025-02-16T10:15:58.777006Z"
    }
   },
   "source": [
    "data_ro1[data_ro1['bath'] > 10]"
   ],
   "outputs": [
    {
     "data": {
      "text/plain": [
       "                  area_type   availability  total_sqft  bath  balcony  price  \\\n",
       "1209   Super built-up  Area  Ready To Move      6000.0    12        3  150.0   \n",
       "2619   Super built-up  Area  Ready To Move     12000.0    12        3  525.0   \n",
       "5197   Super built-up  Area  Ready To Move      5425.0    13        0  275.0   \n",
       "6266   Super built-up  Area  Ready To Move     10000.0    16        0  550.0   \n",
       "10253  Super built-up  Area  Ready To Move      4000.0    12        3  160.0   \n",
       "\n",
       "       site_location  bhk  price_per_sqft  sqft_per_bhk sqft_per_bhk_category  \n",
       "1209       Bibvewadi   11         2500.00    545.454545                Normal  \n",
       "2619    Fatima Nagar   10         4375.00   1200.000000                Normal  \n",
       "5197   Kondhwa Khurd   13         5069.12    417.307692                Normal  \n",
       "6266    Model colony   16         5500.00    625.000000                Normal  \n",
       "10253        Wagholi   10         4000.00    400.000000                Normal  "
      ],
      "text/html": [
       "<div>\n",
       "<style scoped>\n",
       "    .dataframe tbody tr th:only-of-type {\n",
       "        vertical-align: middle;\n",
       "    }\n",
       "\n",
       "    .dataframe tbody tr th {\n",
       "        vertical-align: top;\n",
       "    }\n",
       "\n",
       "    .dataframe thead th {\n",
       "        text-align: right;\n",
       "    }\n",
       "</style>\n",
       "<table border=\"1\" class=\"dataframe\">\n",
       "  <thead>\n",
       "    <tr style=\"text-align: right;\">\n",
       "      <th></th>\n",
       "      <th>area_type</th>\n",
       "      <th>availability</th>\n",
       "      <th>total_sqft</th>\n",
       "      <th>bath</th>\n",
       "      <th>balcony</th>\n",
       "      <th>price</th>\n",
       "      <th>site_location</th>\n",
       "      <th>bhk</th>\n",
       "      <th>price_per_sqft</th>\n",
       "      <th>sqft_per_bhk</th>\n",
       "      <th>sqft_per_bhk_category</th>\n",
       "    </tr>\n",
       "  </thead>\n",
       "  <tbody>\n",
       "    <tr>\n",
       "      <th>1209</th>\n",
       "      <td>Super built-up  Area</td>\n",
       "      <td>Ready To Move</td>\n",
       "      <td>6000.0</td>\n",
       "      <td>12</td>\n",
       "      <td>3</td>\n",
       "      <td>150.0</td>\n",
       "      <td>Bibvewadi</td>\n",
       "      <td>11</td>\n",
       "      <td>2500.00</td>\n",
       "      <td>545.454545</td>\n",
       "      <td>Normal</td>\n",
       "    </tr>\n",
       "    <tr>\n",
       "      <th>2619</th>\n",
       "      <td>Super built-up  Area</td>\n",
       "      <td>Ready To Move</td>\n",
       "      <td>12000.0</td>\n",
       "      <td>12</td>\n",
       "      <td>3</td>\n",
       "      <td>525.0</td>\n",
       "      <td>Fatima Nagar</td>\n",
       "      <td>10</td>\n",
       "      <td>4375.00</td>\n",
       "      <td>1200.000000</td>\n",
       "      <td>Normal</td>\n",
       "    </tr>\n",
       "    <tr>\n",
       "      <th>5197</th>\n",
       "      <td>Super built-up  Area</td>\n",
       "      <td>Ready To Move</td>\n",
       "      <td>5425.0</td>\n",
       "      <td>13</td>\n",
       "      <td>0</td>\n",
       "      <td>275.0</td>\n",
       "      <td>Kondhwa Khurd</td>\n",
       "      <td>13</td>\n",
       "      <td>5069.12</td>\n",
       "      <td>417.307692</td>\n",
       "      <td>Normal</td>\n",
       "    </tr>\n",
       "    <tr>\n",
       "      <th>6266</th>\n",
       "      <td>Super built-up  Area</td>\n",
       "      <td>Ready To Move</td>\n",
       "      <td>10000.0</td>\n",
       "      <td>16</td>\n",
       "      <td>0</td>\n",
       "      <td>550.0</td>\n",
       "      <td>Model colony</td>\n",
       "      <td>16</td>\n",
       "      <td>5500.00</td>\n",
       "      <td>625.000000</td>\n",
       "      <td>Normal</td>\n",
       "    </tr>\n",
       "    <tr>\n",
       "      <th>10253</th>\n",
       "      <td>Super built-up  Area</td>\n",
       "      <td>Ready To Move</td>\n",
       "      <td>4000.0</td>\n",
       "      <td>12</td>\n",
       "      <td>3</td>\n",
       "      <td>160.0</td>\n",
       "      <td>Wagholi</td>\n",
       "      <td>10</td>\n",
       "      <td>4000.00</td>\n",
       "      <td>400.000000</td>\n",
       "      <td>Normal</td>\n",
       "    </tr>\n",
       "  </tbody>\n",
       "</table>\n",
       "</div>"
      ]
     },
     "execution_count": 48,
     "metadata": {},
     "output_type": "execute_result"
    }
   ],
   "execution_count": 48
  },
  {
   "cell_type": "code",
   "id": "86a8f4bd-7fb3-41c5-9dd3-72ca7c65020a",
   "metadata": {
    "ExecuteTime": {
     "end_time": "2025-02-16T10:15:58.990246Z",
     "start_time": "2025-02-16T10:15:58.801423Z"
    }
   },
   "source": [
    "# Creating a boxplot for the 'bhk' variable\n",
    "sns.boxplot(x=data_ro1['bhk'])\n",
    "plt.title('Distribution of Number of Bedrooms')\n",
    "plt.xlabel('Number of Bedrooms')\n",
    "plt.show()"
   ],
   "outputs": [
    {
     "data": {
      "text/plain": [
       "<Figure size 1000x600 with 1 Axes>"
      ],
      "image/png": "[encoded data removed]"
     },
     "metadata": {},
     "output_type": "display_data"
    }
   ],
   "execution_count": 49
  },
  {
   "cell_type": "code",
   "id": "6e2482cc-e583-4a24-b7f9-413d196175fe",
   "metadata": {
    "ExecuteTime": {
     "end_time": "2025-02-16T10:15:59.008917Z",
     "start_time": "2025-02-16T10:15:58.990246Z"
    }
   },
   "source": [
    "#It is unusual to have 2 more bathrooms than number of bedrooms in a home\n",
    "data_ro1[data_ro1['bath'] > data_ro1['bhk'] + 2]"
   ],
   "outputs": [
    {
     "data": {
      "text/plain": [
       "                area_type   availability  total_sqft  bath  balcony  price  \\\n",
       "768  Super built-up  Area  Ready To Move      1806.0     6        2  116.0   \n",
       "\n",
       "    site_location  bhk  price_per_sqft  sqft_per_bhk sqft_per_bhk_category  \n",
       "768         Baner    3         6423.03         602.0                Normal  "
      ],
      "text/html": [
       "<div>\n",
       "<style scoped>\n",
       "    .dataframe tbody tr th:only-of-type {\n",
       "        vertical-align: middle;\n",
       "    }\n",
       "\n",
       "    .dataframe tbody tr th {\n",
       "        vertical-align: top;\n",
       "    }\n",
       "\n",
       "    .dataframe thead th {\n",
       "        text-align: right;\n",
       "    }\n",
       "</style>\n",
       "<table border=\"1\" class=\"dataframe\">\n",
       "  <thead>\n",
       "    <tr style=\"text-align: right;\">\n",
       "      <th></th>\n",
       "      <th>area_type</th>\n",
       "      <th>availability</th>\n",
       "      <th>total_sqft</th>\n",
       "      <th>bath</th>\n",
       "      <th>balcony</th>\n",
       "      <th>price</th>\n",
       "      <th>site_location</th>\n",
       "      <th>bhk</th>\n",
       "      <th>price_per_sqft</th>\n",
       "      <th>sqft_per_bhk</th>\n",
       "      <th>sqft_per_bhk_category</th>\n",
       "    </tr>\n",
       "  </thead>\n",
       "  <tbody>\n",
       "    <tr>\n",
       "      <th>768</th>\n",
       "      <td>Super built-up  Area</td>\n",
       "      <td>Ready To Move</td>\n",
       "      <td>1806.0</td>\n",
       "      <td>6</td>\n",
       "      <td>2</td>\n",
       "      <td>116.0</td>\n",
       "      <td>Baner</td>\n",
       "      <td>3</td>\n",
       "      <td>6423.03</td>\n",
       "      <td>602.0</td>\n",
       "      <td>Normal</td>\n",
       "    </tr>\n",
       "  </tbody>\n",
       "</table>\n",
       "</div>"
      ]
     },
     "execution_count": 50,
     "metadata": {},
     "output_type": "execute_result"
    }
   ],
   "execution_count": 50
  },
  {
   "cell_type": "code",
   "id": "f4d27633-5b89-4bff-b66a-95d351e81524",
   "metadata": {
    "ExecuteTime": {
     "end_time": "2025-02-16T10:15:59.018408Z",
     "start_time": "2025-02-16T10:15:59.008917Z"
    }
   },
   "source": [
    "# Filter the DataFrame to include only rows where 'bath' is less than or equal to 'bhk' + 2\n",
    "data_ro1 = data_ro1[data_ro1['bath'] <= data_ro1['bhk'] + 2]\n",
    "\n",
    "# Display the shape of the filtered DataFrame\n",
    "print(data_ro1.shape)"
   ],
   "outputs": [
    {
     "name": "stdout",
     "output_type": "stream",
     "text": [
      "(7326, 11)\n"
     ]
    }
   ],
   "execution_count": 51
  },
  {
   "cell_type": "code",
   "id": "4ed17356-585b-43a5-9c57-54cc0c843fec",
   "metadata": {
    "ExecuteTime": {
     "end_time": "2025-02-16T10:15:59.027844Z",
     "start_time": "2025-02-16T10:15:59.018408Z"
    }
   },
   "source": [
    "# Remove the unnecessary columns from the DataFrame\n",
    "data_model = data_ro1.drop(columns=['area_type', 'availability', 'price_per_sqft', 'sqft_per_bhk', 'sqft_per_bhk_category']).copy()"
   ],
   "outputs": [],
   "execution_count": 52
  },
  {
   "cell_type": "code",
   "id": "e59259ec-1fb4-4ac5-840a-54460ce01746",
   "metadata": {
    "ExecuteTime": {
     "end_time": "2025-02-16T10:15:59.044993Z",
     "start_time": "2025-02-16T10:15:59.029855Z"
    }
   },
   "source": [
    "data_model"
   ],
   "outputs": [
    {
     "data": {
      "text/plain": [
       "       total_sqft  bath  balcony   price site_location  bhk\n",
       "0          1056.0     2        1   39.07   Alandi Road    2\n",
       "1          2894.0     4        1  245.00   Alandi Road    4\n",
       "2          1084.0     2        2   50.00   Alandi Road    2\n",
       "3          1000.0     2        1   25.00   Alandi Road    2\n",
       "4          1230.0     2        2   80.00   Alandi Road    2\n",
       "...           ...   ...      ...     ...           ...  ...\n",
       "10735      3122.0     6        2  250.00      Yerawada    4\n",
       "10738      3500.0     6        2  115.00      Yerawada    6\n",
       "10741      3210.0     5        2  353.00      Yerawada    5\n",
       "10742      1050.0     2        2   54.00      Yerawada    2\n",
       "10746      1132.0     2        1   70.00      Yerawada    2\n",
       "\n",
       "[7326 rows x 6 columns]"
      ],
      "text/html": [
       "<div>\n",
       "<style scoped>\n",
       "    .dataframe tbody tr th:only-of-type {\n",
       "        vertical-align: middle;\n",
       "    }\n",
       "\n",
       "    .dataframe tbody tr th {\n",
       "        vertical-align: top;\n",
       "    }\n",
       "\n",
       "    .dataframe thead th {\n",
       "        text-align: right;\n",
       "    }\n",
       "</style>\n",
       "<table border=\"1\" class=\"dataframe\">\n",
       "  <thead>\n",
       "    <tr style=\"text-align: right;\">\n",
       "      <th></th>\n",
       "      <th>total_sqft</th>\n",
       "      <th>bath</th>\n",
       "      <th>balcony</th>\n",
       "      <th>price</th>\n",
       "      <th>site_location</th>\n",
       "      <th>bhk</th>\n",
       "    </tr>\n",
       "  </thead>\n",
       "  <tbody>\n",
       "    <tr>\n",
       "      <th>0</th>\n",
       "      <td>1056.0</td>\n",
       "      <td>2</td>\n",
       "      <td>1</td>\n",
       "      <td>39.07</td>\n",
       "      <td>Alandi Road</td>\n",
       "      <td>2</td>\n",
       "    </tr>\n",
       "    <tr>\n",
       "      <th>1</th>\n",
       "      <td>2894.0</td>\n",
       "      <td>4</td>\n",
       "      <td>1</td>\n",
       "      <td>245.00</td>\n",
       "      <td>Alandi Road</td>\n",
       "      <td>4</td>\n",
       "    </tr>\n",
       "    <tr>\n",
       "      <th>2</th>\n",
       "      <td>1084.0</td>\n",
       "      <td>2</td>\n",
       "      <td>2</td>\n",
       "      <td>50.00</td>\n",
       "      <td>Alandi Road</td>\n",
       "      <td>2</td>\n",
       "    </tr>\n",
       "    <tr>\n",
       "      <th>3</th>\n",
       "      <td>1000.0</td>\n",
       "      <td>2</td>\n",
       "      <td>1</td>\n",
       "      <td>25.00</td>\n",
       "      <td>Alandi Road</td>\n",
       "      <td>2</td>\n",
       "    </tr>\n",
       "    <tr>\n",
       "      <th>4</th>\n",
       "      <td>1230.0</td>\n",
       "      <td>2</td>\n",
       "      <td>2</td>\n",
       "      <td>80.00</td>\n",
       "      <td>Alandi Road</td>\n",
       "      <td>2</td>\n",
       "    </tr>\n",
       "    <tr>\n",
       "      <th>...</th>\n",
       "      <td>...</td>\n",
       "      <td>...</td>\n",
       "      <td>...</td>\n",
       "      <td>...</td>\n",
       "      <td>...</td>\n",
       "      <td>...</td>\n",
       "    </tr>\n",
       "    <tr>\n",
       "      <th>10735</th>\n",
       "      <td>3122.0</td>\n",
       "      <td>6</td>\n",
       "      <td>2</td>\n",
       "      <td>250.00</td>\n",
       "      <td>Yerawada</td>\n",
       "      <td>4</td>\n",
       "    </tr>\n",
       "    <tr>\n",
       "      <th>10738</th>\n",
       "      <td>3500.0</td>\n",
       "      <td>6</td>\n",
       "      <td>2</td>\n",
       "      <td>115.00</td>\n",
       "      <td>Yerawada</td>\n",
       "      <td>6</td>\n",
       "    </tr>\n",
       "    <tr>\n",
       "      <th>10741</th>\n",
       "      <td>3210.0</td>\n",
       "      <td>5</td>\n",
       "      <td>2</td>\n",
       "      <td>353.00</td>\n",
       "      <td>Yerawada</td>\n",
       "      <td>5</td>\n",
       "    </tr>\n",
       "    <tr>\n",
       "      <th>10742</th>\n",
       "      <td>1050.0</td>\n",
       "      <td>2</td>\n",
       "      <td>2</td>\n",
       "      <td>54.00</td>\n",
       "      <td>Yerawada</td>\n",
       "      <td>2</td>\n",
       "    </tr>\n",
       "    <tr>\n",
       "      <th>10746</th>\n",
       "      <td>1132.0</td>\n",
       "      <td>2</td>\n",
       "      <td>1</td>\n",
       "      <td>70.00</td>\n",
       "      <td>Yerawada</td>\n",
       "      <td>2</td>\n",
       "    </tr>\n",
       "  </tbody>\n",
       "</table>\n",
       "<p>7326 rows × 6 columns</p>\n",
       "</div>"
      ]
     },
     "execution_count": 53,
     "metadata": {},
     "output_type": "execute_result"
    }
   ],
   "execution_count": 53
  },
  {
   "cell_type": "code",
   "id": "01648015-0766-4875-a79c-29255374d9af",
   "metadata": {
    "ExecuteTime": {
     "end_time": "2025-02-16T10:15:59.074335Z",
     "start_time": "2025-02-16T10:15:59.044993Z"
    }
   },
   "source": [
    "# Perform one-hot encoding on the 'site_location' column and concatenate the resulting DataFrame with 'data_model'\n",
    "data_model = pd.concat([data_model, pd.get_dummies(data_model['site_location'], dtype=int)], axis=1)\n",
    "\n",
    "# Drop the original 'site_location' column as it's now encoded\n",
    "data_model.drop(columns=['site_location'], inplace=True)\n",
    "\n",
    "# Display the first few rows to verify the changes\n",
    "data_model.head()"
   ],
   "outputs": [
    {
     "data": {
      "text/plain": [
       "   total_sqft  bath  balcony   price  bhk  Alandi Road  Ambegaon Budruk  \\\n",
       "0      1056.0     2        1   39.07    2            1                0   \n",
       "1      2894.0     4        1  245.00    4            1                0   \n",
       "2      1084.0     2        2   50.00    2            1                0   \n",
       "3      1000.0     2        1   25.00    2            1                0   \n",
       "4      1230.0     2        2   80.00    2            1                0   \n",
       "\n",
       "   Anandnagar  Aundh  Aundh Road  ...  Uruli Devachi  Vadgaon Budruk  \\\n",
       "0           0      0           0  ...              0               0   \n",
       "1           0      0           0  ...              0               0   \n",
       "2           0      0           0  ...              0               0   \n",
       "3           0      0           0  ...              0               0   \n",
       "4           0      0           0  ...              0               0   \n",
       "\n",
       "   Viman Nagar  Vishrant Wadi  Wadgaon Sheri  Wagholi  Wakadewadi  Wanowrie  \\\n",
       "0            0              0              0        0           0         0   \n",
       "1            0              0              0        0           0         0   \n",
       "2            0              0              0        0           0         0   \n",
       "3            0              0              0        0           0         0   \n",
       "4            0              0              0        0           0         0   \n",
       "\n",
       "   Warje  Yerawada  \n",
       "0      0         0  \n",
       "1      0         0  \n",
       "2      0         0  \n",
       "3      0         0  \n",
       "4      0         0  \n",
       "\n",
       "[5 rows x 101 columns]"
      ],
      "text/html": [
       "<div>\n",
       "<style scoped>\n",
       "    .dataframe tbody tr th:only-of-type {\n",
       "        vertical-align: middle;\n",
       "    }\n",
       "\n",
       "    .dataframe tbody tr th {\n",
       "        vertical-align: top;\n",
       "    }\n",
       "\n",
       "    .dataframe thead th {\n",
       "        text-align: right;\n",
       "    }\n",
       "</style>\n",
       "<table border=\"1\" class=\"dataframe\">\n",
       "  <thead>\n",
       "    <tr style=\"text-align: right;\">\n",
       "      <th></th>\n",
       "      <th>total_sqft</th>\n",
       "      <th>bath</th>\n",
       "      <th>balcony</th>\n",
       "      <th>price</th>\n",
       "      <th>bhk</th>\n",
       "      <th>Alandi Road</th>\n",
       "      <th>Ambegaon Budruk</th>\n",
       "      <th>Anandnagar</th>\n",
       "      <th>Aundh</th>\n",
       "      <th>Aundh Road</th>\n",
       "      <th>...</th>\n",
       "      <th>Uruli Devachi</th>\n",
       "      <th>Vadgaon Budruk</th>\n",
       "      <th>Viman Nagar</th>\n",
       "      <th>Vishrant Wadi</th>\n",
       "      <th>Wadgaon Sheri</th>\n",
       "      <th>Wagholi</th>\n",
       "      <th>Wakadewadi</th>\n",
       "      <th>Wanowrie</th>\n",
       "      <th>Warje</th>\n",
       "      <th>Yerawada</th>\n",
       "    </tr>\n",
       "  </thead>\n",
       "  <tbody>\n",
       "    <tr>\n",
       "      <th>0</th>\n",
       "      <td>1056.0</td>\n",
       "      <td>2</td>\n",
       "      <td>1</td>\n",
       "      <td>39.07</td>\n",
       "      <td>2</td>\n",
       "      <td>1</td>\n",
       "      <td>0</td>\n",
       "      <td>0</td>\n",
       "      <td>0</td>\n",
       "      <td>0</td>\n",
       "      <td>...</td>\n",
       "      <td>0</td>\n",
       "      <td>0</td>\n",
       "      <td>0</td>\n",
       "      <td>0</td>\n",
       "      <td>0</td>\n",
       "      <td>0</td>\n",
       "      <td>0</td>\n",
       "      <td>0</td>\n",
       "      <td>0</td>\n",
       "      <td>0</td>\n",
       "    </tr>\n",
       "    <tr>\n",
       "      <th>1</th>\n",
       "      <td>2894.0</td>\n",
       "      <td>4</td>\n",
       "      <td>1</td>\n",
       "      <td>245.00</td>\n",
       "      <td>4</td>\n",
       "      <td>1</td>\n",
       "      <td>0</td>\n",
       "      <td>0</td>\n",
       "      <td>0</td>\n",
       "      <td>0</td>\n",
       "      <td>...</td>\n",
       "      <td>0</td>\n",
       "      <td>0</td>\n",
       "      <td>0</td>\n",
       "      <td>0</td>\n",
       "      <td>0</td>\n",
       "      <td>0</td>\n",
       "      <td>0</td>\n",
       "      <td>0</td>\n",
       "      <td>0</td>\n",
       "      <td>0</td>\n",
       "    </tr>\n",
       "    <tr>\n",
       "      <th>2</th>\n",
       "      <td>1084.0</td>\n",
       "      <td>2</td>\n",
       "      <td>2</td>\n",
       "      <td>50.00</td>\n",
       "      <td>2</td>\n",
       "      <td>1</td>\n",
       "      <td>0</td>\n",
       "      <td>0</td>\n",
       "      <td>0</td>\n",
       "      <td>0</td>\n",
       "      <td>...</td>\n",
       "      <td>0</td>\n",
       "      <td>0</td>\n",
       "      <td>0</td>\n",
       "      <td>0</td>\n",
       "      <td>0</td>\n",
       "      <td>0</td>\n",
       "      <td>0</td>\n",
       "      <td>0</td>\n",
       "      <td>0</td>\n",
       "      <td>0</td>\n",
       "    </tr>\n",
       "    <tr>\n",
       "      <th>3</th>\n",
       "      <td>1000.0</td>\n",
       "      <td>2</td>\n",
       "      <td>1</td>\n",
       "      <td>25.00</td>\n",
       "      <td>2</td>\n",
       "      <td>1</td>\n",
       "      <td>0</td>\n",
       "      <td>0</td>\n",
       "      <td>0</td>\n",
       "      <td>0</td>\n",
       "      <td>...</td>\n",
       "      <td>0</td>\n",
       "      <td>0</td>\n",
       "      <td>0</td>\n",
       "      <td>0</td>\n",
       "      <td>0</td>\n",
       "      <td>0</td>\n",
       "      <td>0</td>\n",
       "      <td>0</td>\n",
       "      <td>0</td>\n",
       "      <td>0</td>\n",
       "    </tr>\n",
       "    <tr>\n",
       "      <th>4</th>\n",
       "      <td>1230.0</td>\n",
       "      <td>2</td>\n",
       "      <td>2</td>\n",
       "      <td>80.00</td>\n",
       "      <td>2</td>\n",
       "      <td>1</td>\n",
       "      <td>0</td>\n",
       "      <td>0</td>\n",
       "      <td>0</td>\n",
       "      <td>0</td>\n",
       "      <td>...</td>\n",
       "      <td>0</td>\n",
       "      <td>0</td>\n",
       "      <td>0</td>\n",
       "      <td>0</td>\n",
       "      <td>0</td>\n",
       "      <td>0</td>\n",
       "      <td>0</td>\n",
       "      <td>0</td>\n",
       "      <td>0</td>\n",
       "      <td>0</td>\n",
       "    </tr>\n",
       "  </tbody>\n",
       "</table>\n",
       "<p>5 rows × 101 columns</p>\n",
       "</div>"
      ]
     },
     "execution_count": 54,
     "metadata": {},
     "output_type": "execute_result"
    }
   ],
   "execution_count": 54
  },
  {
   "cell_type": "code",
   "id": "8abbc187-4b27-4207-826f-79c0f84d18f8",
   "metadata": {
    "ExecuteTime": {
     "end_time": "2025-02-16T10:15:59.081931Z",
     "start_time": "2025-02-16T10:15:59.074335Z"
    }
   },
   "source": [
    "data_model.shape"
   ],
   "outputs": [
    {
     "data": {
      "text/plain": [
       "(7326, 101)"
      ]
     },
     "execution_count": 55,
     "metadata": {},
     "output_type": "execute_result"
    }
   ],
   "execution_count": 55
  },
  {
   "cell_type": "code",
   "id": "9db4e3b9-fa70-4e77-93aa-ea3b88f20158",
   "metadata": {
    "ExecuteTime": {
     "end_time": "2025-02-16T10:15:59.106200Z",
     "start_time": "2025-02-16T10:15:59.081931Z"
    }
   },
   "source": [
    "# Create the feature matrix 'x' by dropping the 'price' column from 'data_model'\n",
    "X = data_model.drop(columns='price')\n",
    "\n",
    "# Display the first two rows of 'x' to verify\n",
    "X.head(2)"
   ],
   "outputs": [
    {
     "data": {
      "text/plain": [
       "   total_sqft  bath  balcony  bhk  Alandi Road  Ambegaon Budruk  Anandnagar  \\\n",
       "0      1056.0     2        1    2            1                0           0   \n",
       "1      2894.0     4        1    4            1                0           0   \n",
       "\n",
       "   Aundh  Aundh Road  Balaji Nagar  ...  Uruli Devachi  Vadgaon Budruk  \\\n",
       "0      0           0             0  ...              0               0   \n",
       "1      0           0             0  ...              0               0   \n",
       "\n",
       "   Viman Nagar  Vishrant Wadi  Wadgaon Sheri  Wagholi  Wakadewadi  Wanowrie  \\\n",
       "0            0              0              0        0           0         0   \n",
       "1            0              0              0        0           0         0   \n",
       "\n",
       "   Warje  Yerawada  \n",
       "0      0         0  \n",
       "1      0         0  \n",
       "\n",
       "[2 rows x 100 columns]"
      ],
      "text/html": [
       "<div>\n",
       "<style scoped>\n",
       "    .dataframe tbody tr th:only-of-type {\n",
       "        vertical-align: middle;\n",
       "    }\n",
       "\n",
       "    .dataframe tbody tr th {\n",
       "        vertical-align: top;\n",
       "    }\n",
       "\n",
       "    .dataframe thead th {\n",
       "        text-align: right;\n",
       "    }\n",
       "</style>\n",
       "<table border=\"1\" class=\"dataframe\">\n",
       "  <thead>\n",
       "    <tr style=\"text-align: right;\">\n",
       "      <th></th>\n",
       "      <th>total_sqft</th>\n",
       "      <th>bath</th>\n",
       "      <th>balcony</th>\n",
       "      <th>bhk</th>\n",
       "      <th>Alandi Road</th>\n",
       "      <th>Ambegaon Budruk</th>\n",
       "      <th>Anandnagar</th>\n",
       "      <th>Aundh</th>\n",
       "      <th>Aundh Road</th>\n",
       "      <th>Balaji Nagar</th>\n",
       "      <th>...</th>\n",
       "      <th>Uruli Devachi</th>\n",
       "      <th>Vadgaon Budruk</th>\n",
       "      <th>Viman Nagar</th>\n",
       "      <th>Vishrant Wadi</th>\n",
       "      <th>Wadgaon Sheri</th>\n",
       "      <th>Wagholi</th>\n",
       "      <th>Wakadewadi</th>\n",
       "      <th>Wanowrie</th>\n",
       "      <th>Warje</th>\n",
       "      <th>Yerawada</th>\n",
       "    </tr>\n",
       "  </thead>\n",
       "  <tbody>\n",
       "    <tr>\n",
       "      <th>0</th>\n",
       "      <td>1056.0</td>\n",
       "      <td>2</td>\n",
       "      <td>1</td>\n",
       "      <td>2</td>\n",
       "      <td>1</td>\n",
       "      <td>0</td>\n",
       "      <td>0</td>\n",
       "      <td>0</td>\n",
       "      <td>0</td>\n",
       "      <td>0</td>\n",
       "      <td>...</td>\n",
       "      <td>0</td>\n",
       "      <td>0</td>\n",
       "      <td>0</td>\n",
       "      <td>0</td>\n",
       "      <td>0</td>\n",
       "      <td>0</td>\n",
       "      <td>0</td>\n",
       "      <td>0</td>\n",
       "      <td>0</td>\n",
       "      <td>0</td>\n",
       "    </tr>\n",
       "    <tr>\n",
       "      <th>1</th>\n",
       "      <td>2894.0</td>\n",
       "      <td>4</td>\n",
       "      <td>1</td>\n",
       "      <td>4</td>\n",
       "      <td>1</td>\n",
       "      <td>0</td>\n",
       "      <td>0</td>\n",
       "      <td>0</td>\n",
       "      <td>0</td>\n",
       "      <td>0</td>\n",
       "      <td>...</td>\n",
       "      <td>0</td>\n",
       "      <td>0</td>\n",
       "      <td>0</td>\n",
       "      <td>0</td>\n",
       "      <td>0</td>\n",
       "      <td>0</td>\n",
       "      <td>0</td>\n",
       "      <td>0</td>\n",
       "      <td>0</td>\n",
       "      <td>0</td>\n",
       "    </tr>\n",
       "  </tbody>\n",
       "</table>\n",
       "<p>2 rows × 100 columns</p>\n",
       "</div>"
      ]
     },
     "execution_count": 56,
     "metadata": {},
     "output_type": "execute_result"
    }
   ],
   "execution_count": 56
  },
  {
   "cell_type": "code",
   "id": "5de89f3a-6e18-4828-91dd-46947b2bd406",
   "metadata": {
    "ExecuteTime": {
     "end_time": "2025-02-16T10:15:59.113540Z",
     "start_time": "2025-02-16T10:15:59.106200Z"
    }
   },
   "source": [
    "# Separate the target variable 'price' into variable 'y'\n",
    "y = data_model['price']\n",
    "\n",
    "# Display the first two rows of 'y' to verify\n",
    "print(y.head(2))"
   ],
   "outputs": [
    {
     "name": "stdout",
     "output_type": "stream",
     "text": [
      "0     39.07\n",
      "1    245.00\n",
      "Name: price, dtype: float64\n"
     ]
    }
   ],
   "execution_count": 57
  },
  {
   "cell_type": "code",
   "id": "971a371d-bc7f-4b45-900f-e524d941a390",
   "metadata": {
    "ExecuteTime": {
     "end_time": "2025-02-16T10:16:00.106889Z",
     "start_time": "2025-02-16T10:15:59.113540Z"
    }
   },
   "source": [
    "from sklearn.model_selection import train_test_split\n",
    "from sklearn.linear_model import LinearRegression\n",
    "from sklearn.metrics import r2_score, mean_absolute_error, mean_squared_error\n",
    "\n",
    "# Split the dataset into training (80%) and testing (20%)\n",
    "X_train, X_test, y_train, y_test = train_test_split(X, y, test_size=0.2, random_state=42)\n",
    "\n",
    "# Initialize and train the Linear Regression model\n",
    "lr_model = LinearRegression()\n",
    "lr_model.fit(X_train, y_train)\n",
    "\n",
    "# Predictions on the test set\n",
    "y_pred = lr_model.predict(X_test)\n",
    "\n",
    "# Evaluate the model\n",
    "r2 = r2_score(y_test, y_pred)\n",
    "mae = mean_absolute_error(y_test, y_pred)\n",
    "rmse = np.sqrt(mean_squared_error(y_test, y_pred))\n",
    "print(f\"R² Score: {r2:.4f}\")      \n",
    "print(f\"Mean Absolute Error: {mae:.4f}\")  \n",
    "print(f\"Root Mean Squared Error: {rmse:.4f}\")  \n",
    "\n",
    "plt.figure(figsize=(8, 6))\n",
    "plt.scatter(y_test, y_pred, color=\"blue\", alpha=0.5, label=\"Predicted vs Actual\")\n",
    "plt.plot([min(y_test), max(y_test)], [min(y_test), max(y_test)], color=\"red\", linewidth=2, linestyle=\"--\", label=\"Perfect Fit\")  \n",
    "plt.xlabel(\"Actual House Prices\")\n",
    "plt.ylabel(\"Predicted House Prices\")\n",
    "plt.title(\"Actual vs Predicted House Prices\")\n",
    "plt.legend()\n",
    "plt.show()"
   ],
   "outputs": [
    {
     "name": "stdout",
     "output_type": "stream",
     "text": [
      "R² Score: 0.8239\n",
      "Mean Absolute Error: 16.6463\n",
      "Root Mean Squared Error: 24.2673\n"
     ]
    },
    {
     "data": {
      "text/plain": [
       "<Figure size 800x600 with 1 Axes>"
      ],
      "image/png": "[encoded data removed]"
     },
     "metadata": {},
     "output_type": "display_data"
    }
   ],
   "execution_count": 58
  },
  {
   "cell_type": "code",
   "id": "10754d10-c2ce-4ebc-bec5-5d8f75f3d4da",
   "metadata": {
    "ExecuteTime": {
     "end_time": "2025-02-16T10:16:28.318413Z",
     "start_time": "2025-02-16T10:16:27.734994Z"
    }
   },
   "source": [
    "from sklearn.tree import DecisionTreeRegressor\n",
    "\n",
    "# Initialize the Decision Tree Regressor\n",
    "dt_model = DecisionTreeRegressor(max_depth=5, random_state=42)  \n",
    "\n",
    "# Train the model\n",
    "dt_model.fit(X_train, y_train)\n",
    "\n",
    "# Predict on the test data\n",
    "y_pred = dt_model.predict(X_test)\n",
    "\n",
    "# Calculate evaluation metrics\n",
    "r2 = r2_score(y_test, y_pred)\n",
    "mae = mean_absolute_error(y_test, y_pred)\n",
    "rmse = np.sqrt(mean_squared_error(y_test, y_pred))\n",
    "print(f\"R² Score: {r2:.4f}\")  \n",
    "print(f\"Mean Absolute Error (MAE): {mae:.4f}\")  \n",
    "print(f\"Root Mean Squared Error (RMSE): {rmse:.4f}\")  \n",
    "\n",
    "plt.figure(figsize=(8,6))\n",
    "plt.scatter(y_test, y_pred, alpha=0.7, color=\"blue\", label=\"Predicted vs Actual\")\n",
    "plt.plot([min(y_test), max(y_test)], [min(y_test), max(y_test)], color=\"red\", linewidth=2, linestyle=\"--\", label=\"Perfect Fit\")\n",
    "plt.xlabel(\"Actual Values\")\n",
    "plt.ylabel(\"Predicted Values\")\n",
    "plt.title(\"Actual vs Predicted Values (Decision Tree Regression)\")\n",
    "plt.legend()\n",
    "plt.grid(True)\n",
    "plt.show()"
   ],
   "outputs": [
    {
     "name": "stdout",
     "output_type": "stream",
     "text": [
      "R² Score: 0.8252\n",
      "Mean Absolute Error (MAE): 15.9798\n",
      "Root Mean Squared Error (RMSE): 24.1726\n"
     ]
    },
    {
     "data": {
      "text/plain": [
       "<Figure size 800x600 with 1 Axes>"
      ],
      "image/png": "[encoded data removed]"
     },
     "metadata": {},
     "output_type": "display_data"
    }
   ],
   "execution_count": 59
  },
  {
   "metadata": {
    "ExecuteTime": {
     "end_time": "2025-02-16T10:17:12.953253Z",
     "start_time": "2025-02-16T10:17:11.597705Z"
    }
   },
   "cell_type": "code",
   "source": [
    "import xgboost as xgb\n",
    "\n",
    "# Initialize the XGBoost Regressor\n",
    "xgb_model = xgb.XGBRegressor(objective=\"reg:squarederror\", n_estimators=100, learning_rate=0.1, max_depth=5, random_state=42)\n",
    "\n",
    "# Train the model\n",
    "xgb_model.fit(X_train, y_train)\n",
    "\n",
    "# Predict on the test data\n",
    "y_pred = xgb_model.predict(X_test)\n",
    "\n",
    "# Calculate evaluation metrics\n",
    "r2 = r2_score(y_test, y_pred)\n",
    "mae = mean_absolute_error(y_test, y_pred)\n",
    "rmse = np.sqrt(mean_squared_error(y_test, y_pred))\n",
    "\n",
    "print(f\"R² Score: {r2:.4f}\")  \n",
    "print(f\"Mean Absolute Error (MAE): {mae:.4f}\")  \n",
    "print(f\"Root Mean Squared Error (RMSE): {rmse:.4f}\")  \n",
    "\n",
    "plt.figure(figsize=(8,6))\n",
    "plt.scatter(y_test, y_pred, alpha=0.7, color=\"blue\", label=\"Predicted vs Actual\")\n",
    "plt.plot([min(y_test), max(y_test)], [min(y_test), max(y_test)], color=\"red\", linewidth=2, linestyle=\"--\", label=\"Perfect Fit\")\n",
    "plt.xlabel(\"Actual Values\")\n",
    "plt.ylabel(\"Predicted Values\")\n",
    "plt.title(\"Actual vs Predicted Values (XGBoost Regression)\")\n",
    "plt.legend()\n",
    "plt.grid(True)\n",
    "plt.show()"
   ],
   "id": "bdea4a2870059fa2",
   "outputs": [
    {
     "name": "stdout",
     "output_type": "stream",
     "text": [
      "R² Score: 0.8405\n",
      "Mean Absolute Error (MAE): 15.2821\n",
      "Root Mean Squared Error (RMSE): 23.0948\n"
     ]
    },
    {
     "data": {
      "text/plain": [
       "<Figure size 800x600 with 1 Axes>"
      ],
      "image/png": "[encoded data removed]"
     },
     "metadata": {},
     "output_type": "display_data"
    }
   ],
   "execution_count": 60
  },
  {
   "metadata": {},
   "cell_type": "code",
   "outputs": [],
   "execution_count": null,
   "source": "",
   "id": "59e5e57cc03b96c"
  }
 ],
 "metadata": {
  "kernelspec": {
   "display_name": "Python 3 (ipykernel)",
   "language": "python",
   "name": "python3"
  },
  "language_info": {
   "codemirror_mode": {
    "name": "ipython",
    "version": 3
   },
   "file_extension": ".py",
   "mimetype": "text/x-python",
   "name": "python",
   "nbconvert_exporter": "python",
   "pygments_lexer": "ipython3",
   "version": "3.12.1"
  }
 },
 "nbformat": 4,
 "nbformat_minor": 5
}
